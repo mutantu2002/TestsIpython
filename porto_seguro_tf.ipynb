{
 "cells": [
  {
   "cell_type": "code",
   "execution_count": 47,
   "metadata": {},
   "outputs": [],
   "source": [
    "import tensorflow as tf\n",
    "import pandas as pd\n",
    "import numpy as np\n",
    "from sklearn.cross_validation import train_test_split"
   ]
  },
  {
   "cell_type": "code",
   "execution_count": 48,
   "metadata": {
    "collapsed": true
   },
   "outputs": [],
   "source": [
    "train = pd.read_csv('input/train.csv')\n",
    "test = pd.read_csv('input/test.csv')"
   ]
  },
  {
   "cell_type": "code",
   "execution_count": 49,
   "metadata": {},
   "outputs": [],
   "source": [
    "train_no_id = train.drop('id',axis=1)\n",
    "train70, train30 = train_test_split(train_no_id,test_size=0.3,random_state=192)"
   ]
  },
  {
   "cell_type": "code",
   "execution_count": 50,
   "metadata": {
    "collapsed": true
   },
   "outputs": [],
   "source": [
    "with tf.name_scope('logres'):\n",
    "    x = tf.placeholder(tf.float32, [None, 57])\n",
    "    W = tf.Variable(tf.zeros([57, 1]))\n",
    "    b = tf.Variable(tf.zeros([1]))\n",
    "    y = tf.matmul(x, W)+b\n",
    "    y_ = tf.placeholder(tf.float32, [None, 1])"
   ]
  },
  {
   "cell_type": "code",
   "execution_count": 51,
   "metadata": {
    "collapsed": true
   },
   "outputs": [],
   "source": [
    "with tf.name_scope('loss'):\n",
    "    cross_entropy = tf.reduce_mean(tf.nn.sigmoid_cross_entropy_with_logits(labels=y_, logits=y))\n",
    "    train_step = tf.train.GradientDescentOptimizer(0.005).minimize(cross_entropy)"
   ]
  },
  {
   "cell_type": "code",
   "execution_count": 52,
   "metadata": {},
   "outputs": [],
   "source": [
    "with tf.name_scope('accuracy'):\n",
    "    accuracy_op = tf.metrics.auc(y_,tf.sigmoid(y))"
   ]
  },
  {
   "cell_type": "code",
   "execution_count": 53,
   "metadata": {},
   "outputs": [
    {
     "name": "stdout",
     "output_type": "stream",
     "text": [
      "(0.0, 0.49150965)\n",
      "(0.0, 0.50404871)\n",
      "(0.0, 0.51595974)\n",
      "(0.0, 0.52095807)\n",
      "(0.0, 0.51513648)\n"
     ]
    }
   ],
   "source": [
    "with tf.Session() as sess:\n",
    "    sess.run(tf.global_variables_initializer())\n",
    "    for j in range(5):\n",
    "        for i in range(100):\n",
    "            train_batch = train70.sample(frac=0.001).reset_index(drop=True)\n",
    "            batch_xs = train_batch.drop('target',axis=1)\n",
    "            batch_ys = train_batch['target'].values.reshape(train_batch.shape[0],1)\n",
    "            sess.run(train_step, feed_dict={x: batch_xs, y_: batch_ys})\n",
    "            \n",
    "        sess.run(tf.local_variables_initializer())\n",
    "        print(sess.run(accuracy_op,feed_dict={x: train70.drop('target',axis=1), y_: train70['target'].values.reshape(train70.shape[0],1)})) \n",
    "    "
   ]
  },
  {
   "cell_type": "code",
   "execution_count": null,
   "metadata": {
    "collapsed": true
   },
   "outputs": [],
   "source": []
  }
 ],
 "metadata": {
  "kernelspec": {
   "display_name": "Python 3",
   "language": "python",
   "name": "python3"
  },
  "language_info": {
   "codemirror_mode": {
    "name": "ipython",
    "version": 3
   },
   "file_extension": ".py",
   "mimetype": "text/x-python",
   "name": "python",
   "nbconvert_exporter": "python",
   "pygments_lexer": "ipython3",
   "version": "3.6.2"
  }
 },
 "nbformat": 4,
 "nbformat_minor": 2
}
