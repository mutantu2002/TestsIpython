{
 "cells": [
  {
   "cell_type": "code",
   "execution_count": 47,
   "metadata": {},
<<<<<<< HEAD
   "outputs": [
    {
     "name": "stderr",
     "output_type": "stream",
     "text": [
      "C:\\Anaconda3\\envs\\tfgpu\\lib\\site-packages\\sklearn\\cross_validation.py:41: DeprecationWarning: This module was deprecated in version 0.18 in favor of the model_selection module into which all the refactored classes and functions are moved. Also note that the interface of the new CV iterators are different from that of this module. This module will be removed in 0.20.\n",
      "  \"This module will be removed in 0.20.\", DeprecationWarning)\n"
     ]
    }
   ],
=======
   "outputs": [],
>>>>>>> parent of 4c9e58c... Tf++
   "source": [
    "import tensorflow as tf\n",
    "import pandas as pd\n",
    "import numpy as np\n",
    "import matplotlib.pyplot as plt\n",
    "from sklearn.cross_validation import train_test_split\n",
    "from sklearn.preprocessing import StandardScaler\n",
    "from sklearn.preprocessing import MinMaxScaler\n",
    "from IPython.display import clear_output\n",
    "from sklearn.preprocessing import OneHotEncoder\n",
    "%matplotlib inline"
   ]
  },
  {
   "cell_type": "code",
<<<<<<< HEAD
   "execution_count": 2,
   "metadata": {},
   "outputs": [],
   "source": [
    "def log(x):\n",
    "    return tf.log(tf.maximum(x, 1e-6))"
   ]
  },
  {
   "cell_type": "code",
   "execution_count": 3,
   "metadata": {},
   "outputs": [],
   "source": [
    "def balance_data(train_0, train_1, times):\n",
    "    New_train = train_0.append(train_1, ignore_index =True)\n",
    "    for i in range (times-1):\n",
    "        New_train = New_train.append(train_1, ignore_index =True)\n",
    "    New_train = New_train.sample(frac=1).reset_index(drop=True)\n",
    "    return New_train"
   ]
  },
  {
   "cell_type": "code",
   "execution_count": 4,
   "metadata": {},
=======
   "execution_count": 48,
   "metadata": {
    "collapsed": true
   },
>>>>>>> parent of 4c9e58c... Tf++
   "outputs": [],
   "source": [
    "train = pd.read_csv('input/train.csv')\n",
    "test = pd.read_csv('input/test.csv')"
   ]
  },
  {
   "cell_type": "code",
<<<<<<< HEAD
   "execution_count": 5,
   "metadata": {},
   "outputs": [],
   "source": [
    "def transform_cat_features(df, cat_feature):\n",
    "    cat_features = []\n",
    "    cat_features.append(cat_feature)\n",
    "    train_categorical_values = np.array(df[cat_features].replace(-1, df[cat_features].max()[0]+1))\n",
    "    enc = OneHotEncoder()\n",
    "    train_cat_data = enc.fit_transform(train_categorical_values)\n",
    "    cols = [cat_feature + '_' + str(j) for j in range(0,enc.n_values_[0])]\n",
    "    train_cat_data_df = pd.DataFrame(train_cat_data.toarray(),columns=cols)\n",
    "    return train_cat_data_df"
   ]
  },
  {
   "cell_type": "code",
   "execution_count": 6,
   "metadata": {},
   "outputs": [
    {
     "name": "stderr",
     "output_type": "stream",
     "text": [
      "C:\\Anaconda3\\envs\\tfgpu\\lib\\site-packages\\ipykernel_launcher.py:19: SettingWithCopyWarning: \n",
      "A value is trying to be set on a copy of a slice from a DataFrame.\n",
      "Try using .loc[row_indexer,col_indexer] = value instead\n",
      "\n",
      "See the caveats in the documentation: http://pandas.pydata.org/pandas-docs/stable/indexing.html#indexing-view-versus-copy\n",
      "C:\\Anaconda3\\envs\\tfgpu\\lib\\site-packages\\pandas\\core\\indexing.py:537: SettingWithCopyWarning: \n",
      "A value is trying to be set on a copy of a slice from a DataFrame.\n",
      "Try using .loc[row_indexer,col_indexer] = value instead\n",
      "\n",
      "See the caveats in the documentation: http://pandas.pydata.org/pandas-docs/stable/indexing.html#indexing-view-versus-copy\n",
      "  self.obj[item] = s\n",
      "C:\\Anaconda3\\envs\\tfgpu\\lib\\site-packages\\ipykernel_launcher.py:20: SettingWithCopyWarning: \n",
      "A value is trying to be set on a copy of a slice from a DataFrame.\n",
      "Try using .loc[row_indexer,col_indexer] = value instead\n",
      "\n",
      "See the caveats in the documentation: http://pandas.pydata.org/pandas-docs/stable/indexing.html#indexing-view-versus-copy\n"
     ]
    }
   ],
   "source": [
    "important_features = ['ps_ind_01',\n",
    "'ps_ind_03',\n",
    "'ps_ind_07_bin',\n",
    "'ps_ind_15',\n",
    "'ps_ind_16_bin',\n",
    "'ps_reg_01',\n",
    "'ps_reg_02',\n",
    "'ps_reg_03',\n",
    "'ps_car_12',\n",
    "'ps_car_13',\n",
    "'ps_car_14',\n",
    "'ps_car_15',\n",
    "'ps_ind_05_cat',\n",
    "'ps_car_01_cat',\n",
    "'ps_car_03_cat',\n",
    "'ps_car_07_cat']\n",
    "train_no_id = train[important_features]\n",
    "#train_no_id[important_features] = MinMaxScaler(feature_range=(-1, 1)).fit_transform(train[important_features])\n",
    "train_no_id[important_features] = StandardScaler().fit_transform(train[important_features])\n",
    "train_no_id['target'] = train['target']\n",
    "train70, train30 = train_test_split(train_no_id,test_size=0.3,random_state=192)\n",
    "#train70 = balance_data(train70[train70.target==0], train70[train70.target==1], 10)"
=======
   "execution_count": 49,
   "metadata": {},
   "outputs": [],
   "source": [
    "train_no_id = train.drop('id',axis=1)\n",
    "train70, train30 = train_test_split(train_no_id,test_size=0.3,random_state=192)"
>>>>>>> parent of 4c9e58c... Tf++
   ]
  },
  {
   "cell_type": "code",
<<<<<<< HEAD
   "execution_count": 11,
   "metadata": {},
   "outputs": [],
   "source": [
    "with tf.name_scope('layer1'):\n",
    "    x = tf.placeholder(tf.float32, [None, 16])\n",
    "    W1 = tf.Variable(tf.truncated_normal([16, 50]))\n",
    "    b1 = tf.Variable(tf.zeros([50]))\n",
    "    y1 = tf.tanh(tf.matmul(x, W1)+b1)\n",
    "with tf.name_scope('layer2'):\n",
    "    W2 = tf.Variable(tf.truncated_normal([50, 50]))\n",
    "    b2 = tf.Variable(tf.zeros([50]))\n",
    "    y2 = tf.tanh(tf.matmul(y1, W2)+b2)\n",
    "with tf.name_scope('layer21'):\n",
    "    W21 = tf.Variable(tf.truncated_normal([50, 50]))\n",
    "    b21 = tf.Variable(tf.zeros([50]))\n",
    "    y21 = tf.tanh(tf.matmul(y2, W21)+b21+y1)\n",
    "with tf.name_scope('layer3'):\n",
    "    W3 = tf.Variable(tf.truncated_normal([50, 16]))\n",
    "    b3 = tf.Variable(tf.zeros([16]))\n",
    "    y3 = tf.tanh(tf.matmul(y21, W3)+b3+x)\n",
    "with tf.name_scope('dropout'):\n",
    "    keep_prob = tf.placeholder(tf.float32)\n",
    "    y3_drop = tf.nn.dropout(y3, keep_prob)\n",
    "with tf.name_scope('layerout'):\n",
    "    Wout = tf.Variable(tf.truncated_normal([16, 1]))\n",
    "    bout = tf.Variable(tf.zeros([1]))\n",
    "    y = tf.sigmoid(tf.matmul(y3_drop, Wout)+bout)\n",
=======
   "execution_count": 50,
   "metadata": {
    "collapsed": true
   },
   "outputs": [],
   "source": [
    "with tf.name_scope('logres'):\n",
    "    x = tf.placeholder(tf.float32, [None, 57])\n",
    "    W = tf.Variable(tf.zeros([57, 1]))\n",
    "    b = tf.Variable(tf.zeros([1]))\n",
    "    y = tf.matmul(x, W)+b\n",
>>>>>>> parent of 4c9e58c... Tf++
    "    y_ = tf.placeholder(tf.float32, [None, 1])"
   ]
  },
  {
   "cell_type": "code",
<<<<<<< HEAD
   "execution_count": 12,
   "metadata": {},
   "outputs": [],
   "source": [
    "with tf.name_scope('loss'):\n",
    "    l1_regularizer = tf.contrib.layers.l1_regularizer(scale=0.5, scope=None)\n",
    "    cross_entropy = -tf.reduce_mean(y_*log(y)+(1-y_)*log(1-y))\n",
    "    l2=tf.nn.l2_loss(Wout)+tf.nn.l2_loss(W1)+tf.nn.l2_loss(W2)+tf.nn.l2_loss(W21)+tf.nn.l2_loss(W3)\n",
    "    l1=tf.reduce_sum(tf.abs(W1))\n",
    "        #+tf.reduce_sum(tf.abs(W2))+tf.reduce_sum(tf.abs(W21))+tf.reduce_sum(tf.abs(W3))+tf.reduce_sum(tf.abs(Wout))\n",
    "\n",
    "    regularized_loss = cross_entropy +0.005*l2\n",
    "    train_step = tf.train.AdamOptimizer(0.008).minimize(regularized_loss)"
=======
   "execution_count": 51,
   "metadata": {
    "collapsed": true
   },
   "outputs": [],
   "source": [
    "with tf.name_scope('loss'):\n",
    "    cross_entropy = tf.reduce_mean(tf.nn.sigmoid_cross_entropy_with_logits(labels=y_, logits=y))\n",
    "    train_step = tf.train.GradientDescentOptimizer(0.005).minimize(cross_entropy)"
>>>>>>> parent of 4c9e58c... Tf++
   ]
  },
  {
   "cell_type": "code",
<<<<<<< HEAD
   "execution_count": 13,
=======
   "execution_count": 52,
>>>>>>> parent of 4c9e58c... Tf++
   "metadata": {},
   "outputs": [],
   "source": [
    "with tf.name_scope('accuracy'):\n",
    "    accuracy_op = tf.metrics.auc(y_,y)"
   ]
  },
  {
   "cell_type": "code",
<<<<<<< HEAD
   "execution_count": 14,
=======
   "execution_count": 53,
>>>>>>> parent of 4c9e58c... Tf++
   "metadata": {},
   "outputs": [
    {
     "name": "stdout",
     "output_type": "stream",
     "text": [
<<<<<<< HEAD
      "99\n",
      "0.615941\n"
     ]
    },
    {
     "data": {
      "image/png": "iVBORw0KGgoAAAANSUhEUgAAAXQAAAD8CAYAAABn919SAAAABHNCSVQICAgIfAhkiAAAAAlwSFlz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\nt2wy57wAAAAASUVORK5CYII=\n",
      "text/plain": [
       "<matplotlib.figure.Figure at 0x19110306cc0>"
      ]
     },
     "metadata": {},
     "output_type": "display_data"
    },
    {
     "data": {
      "image/png": "iVBORw0KGgoAAAANSUhEUgAAAX0AAAD8CAYAAACb4nSYAAAABHNCSVQICAgIfAhkiAAAAAlwSFlz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\n",
      "text/plain": [
       "<matplotlib.figure.Figure at 0x191103f6358>"
      ]
     },
     "metadata": {},
     "output_type": "display_data"
=======
      "(0.0, 0.49150965)\n",
      "(0.0, 0.50404871)\n",
      "(0.0, 0.51595974)\n",
      "(0.0, 0.52095807)\n",
      "(0.0, 0.51513648)\n"
     ]
>>>>>>> parent of 4c9e58c... Tf++
    }
   ],
   "source": [
    "losses=[]\n",
    "losses_reg=[]\n",
    "aucs_train=[]\n",
    "aucs_test=[]\n",
    "train_1=train70[train70.target==1]\n",
    "train_0=train70[train70.target==0]\n",
    "\n",
    "with tf.Session() as sess:\n",
    "    sess.run(tf.global_variables_initializer())\n",
<<<<<<< HEAD
    "    for j in range(100):\n",
    "        for i in range(10):\n",
    "            #train_batch = train70.sample(frac=0.5)\n",
    "            train_batch = train_1.append(train_0.sample(frac=0.1), ignore_index =True)\n",
    "            train_batch = train_batch.sample(frac=1)\n",
    "            batch_xs = train_batch.drop('target',axis=1)\n",
    "            batch_ys = train_batch['target'].values.reshape(train_batch.shape[0],1)\n",
    "            _,loss_reg, loss = sess.run([train_step,regularized_loss, cross_entropy], feed_dict={x: batch_xs, y_: batch_ys, keep_prob: 0.5})\n",
    "        clear_output()\n",
    "        print(j)\n",
    "        losses.append(loss)\n",
    "        losses_reg.append(loss_reg)\n",
    "        sess.run(tf.local_variables_initializer())\n",
    "        auc_train = sess.run(accuracy_op,feed_dict={x: train70.drop('target',axis=1), y_: train70['target'].values.reshape(train70.shape[0],1), keep_prob:1})\n",
    "        #print(auc_train)\n",
    "        aucs_train.append(auc_train[1])\n",
    "        sess.run(tf.local_variables_initializer())\n",
    "        auc_test = sess.run(accuracy_op,feed_dict={x: train30.drop('target',axis=1), y_: train30['target'].values.reshape(train30.shape[0],1), keep_prob:1})\n",
    "        #print(auc_test)\n",
    "        aucs_test.append(auc_test[1])\n",
    "        #print()\n",
    "print(auc_test[1])\n",
    "plt.plot(losses)\n",
    "plt.plot(losses_reg,\"r-\")\n",
    "plt.show()\n",
    "plt.plot(aucs_train,)\n",
    "plt.plot(aucs_test,\"r-\")\n",
    "plt.show()"
=======
    "    for j in range(5):\n",
    "        for i in range(100):\n",
    "            train_batch = train70.sample(frac=0.001).reset_index(drop=True)\n",
    "            batch_xs = train_batch.drop('target',axis=1)\n",
    "            batch_ys = train_batch['target'].values.reshape(train_batch.shape[0],1)\n",
    "            sess.run(train_step, feed_dict={x: batch_xs, y_: batch_ys})\n",
    "            \n",
    "        sess.run(tf.local_variables_initializer())\n",
    "        print(sess.run(accuracy_op,feed_dict={x: train70.drop('target',axis=1), y_: train70['target'].values.reshape(train70.shape[0],1)})) \n",
    "    "
>>>>>>> parent of 4c9e58c... Tf++
   ]
  },
  {
   "cell_type": "code",
   "execution_count": null,
   "metadata": {},
   "outputs": [],
   "source": []
  }
 ],
 "metadata": {
  "kernelspec": {
   "display_name": "Python 3",
   "language": "python",
   "name": "python3"
  },
  "language_info": {
   "codemirror_mode": {
    "name": "ipython",
    "version": 3
   },
   "file_extension": ".py",
   "mimetype": "text/x-python",
   "name": "python",
   "nbconvert_exporter": "python",
   "pygments_lexer": "ipython3",
   "version": "3.6.3"
  }
 },
 "nbformat": 4,
 "nbformat_minor": 2
}
