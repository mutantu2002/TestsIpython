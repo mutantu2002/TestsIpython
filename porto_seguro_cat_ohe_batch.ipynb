{
 "cells": [
  {
   "cell_type": "code",
   "execution_count": 1,
   "metadata": {},
   "outputs": [
    {
     "name": "stderr",
     "output_type": "stream",
     "text": [
      "C:\\Anaconda3\\envs\\tfgpu\\lib\\site-packages\\sklearn\\cross_validation.py:41: DeprecationWarning: This module was deprecated in version 0.18 in favor of the model_selection module into which all the refactored classes and functions are moved. Also note that the interface of the new CV iterators are different from that of this module. This module will be removed in 0.20.\n",
      "  \"This module will be removed in 0.20.\", DeprecationWarning)\n"
     ]
    }
   ],
   "source": [
    "import tensorflow as tf\n",
    "import pandas as pd\n",
    "import numpy as np\n",
    "import matplotlib.pyplot as plt\n",
    "from sklearn.cross_validation import train_test_split\n",
    "from sklearn.preprocessing import StandardScaler\n",
    "from sklearn.preprocessing import MinMaxScaler\n",
    "from IPython.display import clear_output\n",
    "from sklearn.preprocessing import OneHotEncoder\n",
    "%matplotlib inline"
   ]
  },
  {
   "cell_type": "code",
   "execution_count": 2,
   "metadata": {},
   "outputs": [],
   "source": [
    "def log(x):\n",
    "    return tf.log(tf.maximum(x, 1e-6))"
   ]
  },
  {
   "cell_type": "code",
   "execution_count": 3,
   "metadata": {},
   "outputs": [],
   "source": [
    "def balance_data(train_0, train_1, times):\n",
    "    New_train = train_0.append(train_1, ignore_index =True)\n",
    "    for i in range (times-1):\n",
    "        New_train = New_train.append(train_1, ignore_index =True)\n",
    "    return New_train.sample(frac=1).reset_index(drop=True)"
   ]
  },
  {
   "cell_type": "code",
   "execution_count": 4,
   "metadata": {},
   "outputs": [],
   "source": [
    "train = pd.read_csv('input/train.csv',na_values=-1)\n",
    "test = pd.read_csv('input/test.csv',na_values=-1)"
   ]
  },
  {
   "cell_type": "code",
   "execution_count": 5,
   "metadata": {},
   "outputs": [],
   "source": [
    "def OHE(df1,column):\n",
    "    cat_col = column\n",
    "    c2,c3 = [],{}\n",
    "    \n",
    "    print('Categorical feature',len(column))\n",
    "    for c in cat_col:\n",
    "        if df1[c].nunique()>2 :\n",
    "            c2.append(c)\n",
    "            c3[c] = 'ohe_'+c\n",
    "    \n",
    "    df = pd.get_dummies(df1, prefix=c3, columns=c2,drop_first=True)\n",
    "    print('Train',df.shape)\n",
    "    return df"
   ]
  },
  {
   "cell_type": "code",
   "execution_count": 6,
   "metadata": {},
   "outputs": [],
   "source": [
    "def missing_value(df):\n",
    "    col = df.columns\n",
    "    for i in col:\n",
    "        if df[i].isnull().sum()>0:\n",
    "            df[i].fillna(df[i].mode()[0],inplace=True)"
   ]
  },
  {
   "cell_type": "code",
   "execution_count": 7,
   "metadata": {},
   "outputs": [],
   "source": [
    "def category_type(df):\n",
    "    tot_cat=[]\n",
    "    col = df.columns\n",
    "    for i in col:\n",
    "        if df[i].nunique()<=104:\n",
    "            if(df[i].name!='target'):\n",
    "                tot_cat.append(df[i].name)\n",
    "    return tot_cat"
   ]
  },
  {
   "cell_type": "code",
   "execution_count": 8,
   "metadata": {},
   "outputs": [],
   "source": [
    "def change64to32(df):\n",
    "    for col in df.columns:\n",
    "        if(df[col].dtype==np.int64):\n",
    "            df[col] = df[col].astype(np.int32)\n",
    "        if(df[col].dtype==np.float64):\n",
    "            df[col] = df[col].astype(np.float32)"
   ]
  },
  {
   "cell_type": "code",
   "execution_count": 9,
   "metadata": {},
   "outputs": [],
   "source": [
    "missing_value(train)"
   ]
  },
  {
   "cell_type": "code",
   "execution_count": 10,
   "metadata": {},
   "outputs": [],
   "source": [
    "cat_col = [col for col in train.columns if '_cat' in col]\n",
    "bin_col = [col for col in train.columns if 'bin' in col]"
   ]
  },
  {
   "cell_type": "code",
   "execution_count": 11,
   "metadata": {},
   "outputs": [],
   "source": [
    "ps_cal = train.columns[train.columns.str.startswith('ps_calc')] \n",
    "train = train.drop(ps_cal,axis =1)"
   ]
  },
  {
   "cell_type": "code",
   "execution_count": 12,
   "metadata": {},
   "outputs": [],
   "source": [
    "tot_cat_col = category_type(train)"
   ]
  },
  {
   "cell_type": "code",
   "execution_count": 13,
   "metadata": {},
   "outputs": [],
   "source": [
    "num_col = [c for c in train.columns if c not in tot_cat_col]\n",
    "num_col.remove('id')\n",
    "num_col.remove('target')"
   ]
  },
  {
   "cell_type": "code",
   "execution_count": 14,
   "metadata": {},
   "outputs": [
    {
     "name": "stdout",
     "output_type": "stream",
     "text": [
      "Categorical feature 33\n",
      "Train (595212, 257)\n"
     ]
    }
   ],
   "source": [
    "train1 = OHE(train,tot_cat_col)"
   ]
  },
  {
   "cell_type": "code",
   "execution_count": 15,
   "metadata": {},
   "outputs": [],
   "source": [
    "train1 = train1.drop(['id'],axis=1)"
   ]
  },
  {
   "cell_type": "code",
   "execution_count": 16,
   "metadata": {},
   "outputs": [],
   "source": [
    "train1[num_col] = StandardScaler().fit_transform(train1[num_col])"
   ]
  },
  {
   "cell_type": "code",
   "execution_count": 17,
   "metadata": {},
   "outputs": [],
   "source": [
    "change64to32(train1)"
   ]
  },
  {
   "cell_type": "code",
   "execution_count": 18,
   "metadata": {},
   "outputs": [],
   "source": [
    "train70, train30 = train_test_split(train1,test_size=0.3,random_state=192)"
   ]
  },
  {
   "cell_type": "code",
   "execution_count": 19,
   "metadata": {},
   "outputs": [],
   "source": [
    "train70 = balance_data(train70[train70.target==0], train70[train70.target==1], 10)"
   ]
  },
  {
   "cell_type": "code",
   "execution_count": 51,
   "metadata": {},
   "outputs": [],
   "source": [
    "with tf.name_scope('layer1'):\n",
    "    x = tf.placeholder(tf.float32, [None, 255])\n",
    "    W1 = tf.Variable(tf.truncated_normal([255, 400],stddev=0.1))\n",
    "    b1 = tf.Variable(tf.constant(0.1, shape=[400]))\n",
    "    y1 = tf.nn.relu(tf.matmul(x, W1)+b1)\n",
    "#with tf.name_scope('dropout'):\n",
    "#    keep_prob = tf.placeholder(tf.float32)\n",
    "#    y1_drop = tf.nn.dropout(y1, keep_prob)\n",
    "with tf.name_scope('layer2'):\n",
    "    W2 = tf.Variable(tf.truncated_normal([400, 100]))\n",
    "    b2 = tf.Variable(tf.constant(0.1, shape=[100]))\n",
    "    y2 = tf.nn.relu(tf.matmul(y1, W2)+b2)\n",
    "with tf.name_scope('layerout'):\n",
    "    Wout = tf.Variable(tf.truncated_normal([100, 1],stddev=0.1))\n",
    "    bout = tf.Variable(tf.constant(0.1, shape=[1]))\n",
    "    y = tf.sigmoid(tf.matmul(y2, Wout)+bout)\n",
    "    y_ = tf.placeholder(tf.float32, [None, 1])"
   ]
  },
  {
   "cell_type": "code",
   "execution_count": 85,
   "metadata": {},
   "outputs": [],
   "source": [
    "with tf.name_scope('loss'):\n",
    "    cross_entropy = -tf.reduce_mean(y_*log(y)+(1-y_)*log(1-y))\n",
    "    l2=tf.nn.l2_loss(W1)#+tf.nn.l2_loss(W2)+tf.nn.l2_loss(Wout)+\n",
    "    l1=tf.reduce_sum(tf.abs(Wout))+tf.reduce_sum(tf.abs(W1))+tf.reduce_sum(tf.abs(W2))\n",
    "\n",
    "    regularized_loss = cross_entropy  +0.06*l2 #+0.001*l1\n",
    "    train_step = tf.train.AdamOptimizer(0.001).minimize(regularized_loss)"
   ]
  },
  {
   "cell_type": "code",
   "execution_count": 86,
   "metadata": {},
   "outputs": [],
   "source": [
    "with tf.name_scope('accuracy'):\n",
    "    accuracy_op = tf.metrics.auc(y_,y)"
   ]
  },
  {
   "cell_type": "code",
   "execution_count": 87,
   "metadata": {},
   "outputs": [],
   "source": [
    "losses=[]\n",
    "losses_reg=[]\n",
    "aucs_train=[]\n",
    "aucs_test=[]\n",
    "\n",
    "xvl = train30.drop('target',axis=1)\n",
    "yvl = train30['target'].values.reshape(train30.shape[0],1)\n",
    "xtr = train70.drop('target',axis=1)\n",
    "ytr = train70['target'].values.reshape(train70.shape[0],1)\n",
    "no_batches = 40\n",
    "batch_lenght = int(train70.shape[0]/no_batches)"
   ]
  },
  {
   "cell_type": "code",
   "execution_count": 88,
   "metadata": {
    "scrolled": true
   },
   "outputs": [
    {
     "name": "stdout",
     "output_type": "stream",
     "text": [
      "29\n",
      "0.632462\n"
     ]
    },
    {
     "data": {
      "image/png": "[encoded data removed]",
      "text/plain": [
       "<matplotlib.figure.Figure at 0x24d362a77f0>"
      ]
     },
     "metadata": {},
     "output_type": "display_data"
    },
    {
     "data": {
      "image/png": "[encoded data removed]",
      "text/plain": [
       "<matplotlib.figure.Figure at 0x24d362ba518>"
      ]
     },
     "metadata": {},
     "output_type": "display_data"
    },
    {
     "name": "stdout",
     "output_type": "stream",
     "text": [
      "Wall time: 2min 34s\n"
     ]
    }
   ],
   "source": [
    "%%time\n",
    "with tf.Session() as sess:\n",
    "    sess.run(tf.global_variables_initializer())\n",
    "    for j in range(30):\n",
    "        for i in range(no_batches):\n",
    "            batch_xs = xtr[i*batch_lenght:(i+1)*batch_lenght]\n",
    "            batch_ys = ytr[i*batch_lenght:(i+1)*batch_lenght]\n",
    "            _,loss_reg, loss = sess.run([train_step,regularized_loss, cross_entropy], feed_dict={x: batch_xs, y_: batch_ys})\n",
    "        clear_output()\n",
    "        print(j)\n",
    "        losses.append(loss)\n",
    "        losses_reg.append(loss_reg)\n",
    "        sess.run(tf.local_variables_initializer())\n",
    "        auc_test = sess.run(accuracy_op,feed_dict={x: xvl, y_: yvl})\n",
    "        aucs_test.append(auc_test[1])   \n",
    "        sess.run(tf.local_variables_initializer())\n",
    "        auc_train = sess.run(accuracy_op,feed_dict={x: batch_xs, y_: batch_ys})\n",
    "        aucs_train.append(auc_train[1])\n",
    "print(max(aucs_test))\n",
    "plt.plot(losses)\n",
    "plt.plot(losses_reg,\"r-\")\n",
    "plt.show()\n",
    "plt.plot(aucs_train,)\n",
    "plt.plot(aucs_test,\"r-\")\n",
    "plt.show()"
   ]
  },
  {
   "cell_type": "code",
   "execution_count": null,
   "metadata": {},
   "outputs": [],
   "source": []
  }
 ],
 "metadata": {
  "kernelspec": {
   "display_name": "Python 3",
   "language": "python",
   "name": "python3"
  },
  "language_info": {
   "codemirror_mode": {
    "name": "ipython",
    "version": 3
   },
   "file_extension": ".py",
   "mimetype": "text/x-python",
   "name": "python",
   "nbconvert_exporter": "python",
   "pygments_lexer": "ipython3",
   "version": "3.6.3"
  }
 },
 "nbformat": 4,
 "nbformat_minor": 2
}
