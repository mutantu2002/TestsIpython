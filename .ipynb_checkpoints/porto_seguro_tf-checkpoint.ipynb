{
 "cells": [
  {
   "cell_type": "code",
   "execution_count": 1,
   "metadata": {
    "collapsed": true
   },
   "outputs": [],
   "source": [
    "import tensorflow as tf\n",
    "import pandas as pd\n",
    "import numpy as np"
   ]
  },
  {
   "cell_type": "code",
   "execution_count": 15,
   "metadata": {},
   "outputs": [
    {
     "name": "stdout",
     "output_type": "stream",
     "text": [
      "(0.0, 0.66666609)\n",
      "0.666666666667\n"
     ]
    }
   ],
   "source": [
    "av=[0,1,1,1]\n",
    "bv=[0.2,0.5,0.1,0.7]\n",
    "a = tf.Variable(av)\n",
    "b = tf.Variable(bv)\n",
    "\n",
    "auc = tf.metrics.auc(a, b)\n",
    "\n",
    "sess = tf.InteractiveSession()\n",
    "tf.global_variables_initializer().run()\n",
    "tf.local_variables_initializer().run() # try commenting this line and you'll get the error\n",
    "train_auc = sess.run(auc)\n",
    "\n",
    "print(train_auc)\n",
    "from sklearn.metrics import roc_auc_score\n",
    "print(roc_auc_score(av, bv))"
   ]
  },
  {
   "cell_type": "code",
   "execution_count": 2,
   "metadata": {
    "collapsed": true
   },
   "outputs": [],
   "source": [
    "train = pd.read_csv('input/train.csv')\n",
    "test = pd.read_csv('input/test.csv')"
   ]
  },
  {
   "cell_type": "code",
   "execution_count": 3,
   "metadata": {},
   "outputs": [
    {
     "data": {
      "text/plain": [
       "(595212, 1)"
      ]
     },
     "execution_count": 3,
     "metadata": {},
     "output_type": "execute_result"
    }
   ],
   "source": [
    "labels = train['target']\n",
    "features = train.drop('target',axis=1)\n",
    "features = features.drop('id',axis=1)\n",
    "labels = np.random.rand(595212)\n",
    "labels = np.random.choice([0, 1], size=595212, p=[.9, .1])\n",
    "labels = labels.reshape(595212,1)\n",
    "labels.shape\n"
   ]
  },
  {
   "cell_type": "code",
   "execution_count": 4,
   "metadata": {
    "collapsed": true
   },
   "outputs": [],
   "source": [
    "  x = tf.placeholder(tf.float32, [None, 57])\n",
    "  W = tf.Variable(tf.zeros([57, 1]))\n",
    "  b = tf.Variable(tf.zeros([1]))\n",
    "  y = tf.matmul(x, W)"
   ]
  },
  {
   "cell_type": "code",
   "execution_count": 5,
   "metadata": {
    "collapsed": true
   },
   "outputs": [],
   "source": [
    "  y_ = tf.placeholder(tf.float32, [None, 1])"
   ]
  },
  {
   "cell_type": "code",
   "execution_count": 6,
   "metadata": {
    "collapsed": true
   },
   "outputs": [],
   "source": [
    "  cross_entropy = tf.reduce_mean(\n",
    "      tf.nn.sigmoid_cross_entropy_with_logits(labels=y_, logits=y))\n",
    "  train_step = tf.train.GradientDescentOptimizer(0.05).minimize(cross_entropy)"
   ]
  },
  {
   "cell_type": "code",
   "execution_count": 7,
   "metadata": {
    "collapsed": true
   },
   "outputs": [],
   "source": [
    "  sess = tf.InteractiveSession()\n",
    "  tf.global_variables_initializer().run()"
   ]
  },
  {
   "cell_type": "code",
   "execution_count": 8,
   "metadata": {
    "collapsed": true
   },
   "outputs": [],
   "source": [
    "predict_op  = tf.greater_equal(y, tf.zeros_like(y))\n",
    "correct_op  = tf.equal(tf.cast(predict_op, tf.float32), y_)\n",
    "accuracy_op = tf.reduce_mean(tf.cast(correct_op, tf.float32))"
   ]
  },
  {
   "cell_type": "code",
   "execution_count": 9,
   "metadata": {},
   "outputs": [
    {
     "name": "stdout",
     "output_type": "stream",
     "text": [
      "0.100062\n",
      "0.899938\n",
      "0.899938\n",
      "0.899938\n",
      "0.100062\n",
      "0.899938\n",
      "0.899938\n",
      "0.899938\n",
      "0.899938\n",
      "0.899938\n",
      "0.899938\n",
      "0.899938\n",
      "0.899938\n",
      "0.899938\n",
      "0.100062\n",
      "0.899938\n",
      "0.899938\n",
      "0.899938\n",
      "0.899938\n",
      "0.899938\n",
      "0.899938\n",
      "0.899938\n",
      "0.899938\n",
      "0.899938\n",
      "0.10007\n",
      "0.899938\n",
      "0.899938\n",
      "0.899938\n",
      "0.899938\n",
      "0.899938\n",
      "0.899938\n",
      "0.899938\n",
      "0.899938\n",
      "0.899938\n",
      "0.100094\n",
      "0.899938\n",
      "0.899938\n",
      "0.899938\n",
      "0.899938\n",
      "0.899938\n",
      "0.899938\n",
      "0.899938\n",
      "0.899938\n",
      "0.899938\n",
      "0.100134\n",
      "0.899935\n",
      "0.899938\n",
      "0.899938\n",
      "0.899938\n",
      "0.899938\n",
      "0.899938\n",
      "0.899938\n",
      "0.899938\n",
      "0.899938\n",
      "0.100179\n",
      "0.899935\n",
      "0.899938\n",
      "0.899938\n",
      "0.899938\n",
      "0.899938\n",
      "0.899938\n",
      "0.899938\n",
      "0.899938\n",
      "0.899938\n",
      "0.10021\n",
      "0.899926\n",
      "0.899938\n",
      "0.899938\n",
      "0.899938\n",
      "0.899938\n",
      "0.899938\n",
      "0.899938\n",
      "0.899938\n",
      "0.899938\n",
      "0.10025\n",
      "0.899916\n",
      "0.899938\n",
      "0.899938\n",
      "0.899938\n",
      "0.899938\n",
      "0.899938\n",
      "0.899938\n",
      "0.899938\n",
      "0.899938\n",
      "0.100314\n",
      "0.899906\n",
      "0.899938\n",
      "0.899938\n",
      "0.899938\n",
      "0.899938\n",
      "0.899938\n",
      "0.899938\n",
      "0.899938\n",
      "0.899938\n",
      "0.100359\n",
      "0.899881\n",
      "0.899938\n",
      "0.899938\n",
      "0.899938\n",
      "0.899938\n"
     ]
    }
   ],
   "source": [
    "  for j in range(100):\n",
    "    print(sess.run(accuracy_op, feed_dict={x: features,y_: labels}))\n",
    "    for i in range(59):\n",
    "        batch_xs = features[10000*i:10000*i+10000]\n",
    "        batch_ys = labels[10000*i:10000*i+10000]\n",
    "        sess.run(train_step, feed_dict={x: batch_xs, y_: batch_ys})\n",
    "    "
   ]
  },
  {
   "cell_type": "code",
   "execution_count": 10,
   "metadata": {},
   "outputs": [
    {
     "name": "stdout",
     "output_type": "stream",
     "text": [
      "W = [  1.56734139e-03  -1.50329694e-01  -7.30315521e-02  -7.49545544e-02\n",
      "  -1.02818869e-01  -1.03976116e-01  -4.46125865e-02   4.87276539e-02\n",
      "   6.43758848e-02  -3.34171951e-03   6.22491876e-04  -1.19340757e-03\n",
      "   3.17874481e-03  -7.33952504e-04  -1.86906561e-01   2.53634062e-02\n",
      "  -1.55905709e-02  -2.58910330e-03  -3.41451541e-02   1.19969966e-02\n",
      "  -1.18723176e-01  -2.64947206e-01  -5.60191385e-02  -3.06516699e-02\n",
      "   2.64403839e-02  -1.09031565e-01  -1.52188092e-01  -4.51273285e-03\n",
      "  -1.43018037e-01   7.04146922e-02  -3.68003175e-02  -1.63859403e+00\n",
      "  -1.57028973e-01  -5.08352136e-03   6.98569277e-03  -9.88248736e-03\n",
      "  -4.44925204e-03   3.87619548e-02  -7.11352658e-03  -2.63841473e-03\n",
      "  -1.11705707e-02  -6.14366680e-02  -1.90546662e-01  -4.27281111e-02\n",
      "  -3.61031741e-01   2.37116311e-02  -2.13790476e-01  -1.70526147e-01\n",
      "   1.49915684e-02  -1.01384513e-01  -2.15319201e-01  -2.91020758e-02\n",
      "  -9.50909406e-02  -9.16409418e-02  -1.09913480e-02   5.79164140e-02\n",
      "  -8.72914493e-03]\n",
      "b = 0.0\n"
     ]
    }
   ],
   "source": [
    "W_val, b_val = sess.run([W, b])\n",
    "W_val = W_val[:,0]\n",
    "b_val = b_val[0]\n",
    "print(\"W =\", W_val)\n",
    "print(\"b =\", b_val)"
   ]
  },
  {
   "cell_type": "code",
   "execution_count": null,
   "metadata": {
    "collapsed": true
   },
   "outputs": [],
   "source": []
  }
 ],
 "metadata": {
  "kernelspec": {
   "display_name": "Python 3",
   "language": "python",
   "name": "python3"
  },
  "language_info": {
   "codemirror_mode": {
    "name": "ipython",
    "version": 3
   },
   "file_extension": ".py",
   "mimetype": "text/x-python",
   "name": "python",
   "nbconvert_exporter": "python",
   "pygments_lexer": "ipython3",
   "version": "3.6.2"
  }
 },
 "nbformat": 4,
 "nbformat_minor": 2
}
