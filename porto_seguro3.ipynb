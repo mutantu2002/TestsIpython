{
 "cells": [
  {
   "cell_type": "code",
   "execution_count": 1,
   "metadata": {},
   "outputs": [
    {
     "name": "stderr",
     "output_type": "stream",
     "text": [
      "C:\\Users\\Lidia\\Anaconda3\\envs\\tensorflow\\lib\\site-packages\\sklearn\\cross_validation.py:41: DeprecationWarning: This module was deprecated in version 0.18 in favor of the model_selection module into which all the refactored classes and functions are moved. Also note that the interface of the new CV iterators are different from that of this module. This module will be removed in 0.20.\n",
      "  \"This module will be removed in 0.20.\", DeprecationWarning)\n"
     ]
    }
   ],
   "source": [
    "import numpy as np\n",
    "import pandas as pd\n",
    "import seaborn as sns\n",
    "import matplotlib.pyplot as plt\n",
    "from sklearn.linear_model import LogisticRegression\n",
    "from sklearn.cross_validation import train_test_split\n",
    "from sklearn.metrics import confusion_matrix\n",
    "import random\n",
    "from sklearn.metrics import roc_auc_score\n",
    "from sklearn.neural_network import MLPClassifier\n",
    "from sklearn.preprocessing import StandardScaler\n",
    "from sklearn.preprocessing import MinMaxScaler\n",
    "from sklearn.metrics import roc_curve\n",
    "from sklearn.feature_selection import mutual_info_classif\n",
    "%matplotlib inline"
   ]
  },
  {
   "cell_type": "code",
   "execution_count": 2,
   "metadata": {
    "collapsed": true
   },
   "outputs": [],
   "source": [
    "def balance_data(train_0, train_1, times):\n",
    "    New_train = train_0.append(train_1, ignore_index =True)\n",
    "    for i in range (times-1):\n",
    "        New_train = New_train.append(train_1, ignore_index =True)\n",
    "    New_train = New_train.sample(frac=1).reset_index(drop=True)\n",
    "    return New_train"
   ]
  },
  {
   "cell_type": "code",
   "execution_count": 3,
   "metadata": {
    "collapsed": true
   },
   "outputs": [],
   "source": [
    "def check_gini(classifier, xv, yv):\n",
    "    yp = classifier.predict_proba(xv)\n",
    "    fp, tp, _ = roc_curve(yv.ravel(),np.zeros_like(yv))\n",
    "    fp1, tp1, _ = roc_curve(yv.ravel(), yp[:, 1])\n",
    "    plt.plot(fp, tp)\n",
    "    plt.plot(fp1, tp1, \"r-\")\n",
    "    plt.show()\n",
    "    print(2*roc_auc_score(yv, yp[:, 1])-1)"
   ]
  },
  {
   "cell_type": "code",
   "execution_count": 11,
   "metadata": {
    "collapsed": true
   },
   "outputs": [],
   "source": [
    "train = pd.read_csv('input/train.csv')\n",
    "test = pd.read_csv('input/test.csv')"
   ]
  },
  {
   "cell_type": "code",
   "execution_count": null,
   "metadata": {},
   "outputs": [],
   "source": [
    "train[train.dtypes[(train.dtypes==\"float64\")|(train.dtypes==\"int64\")]\n",
    "                        .index.values].hist(figsize=[21,21])"
   ]
  },
  {
   "cell_type": "code",
   "execution_count": null,
   "metadata": {},
   "outputs": [],
   "source": [
    "train['ps_car_13'].hist(figsize=[2,2])"
   ]
  },
  {
   "cell_type": "code",
   "execution_count": null,
   "metadata": {},
   "outputs": [],
   "source": [
    "train['ps_car_13'].describe()"
   ]
  },
  {
   "cell_type": "code",
   "execution_count": 12,
   "metadata": {},
   "outputs": [],
   "source": [
    "train = train.drop('id',axis=1)\n",
    "train = train[['target','ps_ind_01',\n",
    "'ps_ind_03',\n",
    "'ps_ind_05_cat',\n",
    "'ps_ind_07_bin',\n",
    "'ps_ind_15',\n",
    "'ps_ind_16_bin',\n",
    "'ps_reg_01',\n",
    "'ps_reg_02',\n",
    "'ps_reg_03',\n",
    "'ps_car_01_cat',\n",
    "'ps_car_03_cat',\n",
    "'ps_car_07_cat',\n",
    "'ps_car_12',\n",
    "'ps_car_13',\n",
    "'ps_car_14',\n",
    "'ps_car_15']]\n",
    "train70, train30 = train_test_split(train,test_size=0.2,random_state=192)"
   ]
  },
  {
   "cell_type": "code",
   "execution_count": 13,
   "metadata": {},
   "outputs": [],
   "source": [
    "train70 = balance_data(train70[train70.target==0], train70[train70.target==1], 10)\n",
    "xtr = train70.drop('target',axis=1)\n",
    "ytr = train70['target']\n",
    "xvl = train30.drop('target',axis=1)\n",
    "yvl = train30['target']"
   ]
  },
  {
   "cell_type": "code",
   "execution_count": 117,
   "metadata": {
    "scrolled": true
   },
   "outputs": [
    {
     "name": "stdout",
     "output_type": "stream",
     "text": [
      "Iteration 1, loss = 0.62304614\n",
      "Iteration 2, loss = 0.60217478\n",
      "Iteration 3, loss = 0.59053010\n",
      "Iteration 4, loss = 0.58573053\n",
      "Iteration 5, loss = 0.58251023\n",
      "Iteration 6, loss = 0.58017281\n",
      "Iteration 7, loss = 0.57839678\n",
      "Iteration 8, loss = 0.57706332\n",
      "Iteration 9, loss = 0.57603824\n",
      "Iteration 10, loss = 0.57527952\n",
      "Iteration 11, loss = 0.57467900\n",
      "Iteration 12, loss = 0.57419533\n",
      "Iteration 13, loss = 0.57378986\n",
      "Iteration 14, loss = 0.57344307\n",
      "Iteration 15, loss = 0.57314347\n",
      "Iteration 16, loss = 0.57285515\n",
      "Iteration 17, loss = 0.57262760\n",
      "Iteration 18, loss = 0.57238856\n",
      "Iteration 19, loss = 0.57218026\n",
      "Iteration 20, loss = 0.57198268\n",
      "Iteration 21, loss = 0.57179226\n",
      "Iteration 22, loss = 0.57161666\n",
      "Iteration 23, loss = 0.57146144\n",
      "Iteration 24, loss = 0.57130898\n",
      "Iteration 25, loss = 0.57116471\n",
      "Iteration 26, loss = 0.57104753\n",
      "Iteration 27, loss = 0.57092223\n",
      "Iteration 28, loss = 0.57080791\n",
      "Iteration 29, loss = 0.57069785\n",
      "Iteration 30, loss = 0.57057877\n",
      "Iteration 31, loss = 0.57048592\n",
      "Iteration 32, loss = 0.57038640\n",
      "Iteration 33, loss = 0.57029333\n",
      "Training loss did not improve more than tol=0.000100 for two consecutive epochs. Stopping.\n"
     ]
    },
    {
     "data": {
      "image/png": "[encoded data removed]",
      "text/plain": [
       "<matplotlib.figure.Figure at 0x23c800d0588>"
      ]
     },
     "metadata": {},
     "output_type": "display_data"
    },
    {
     "name": "stdout",
     "output_type": "stream",
     "text": [
      "0.253132085912\n"
     ]
    }
   ],
   "source": [
    "mlr = MLPClassifier(max_iter=50, hidden_layer_sizes=(20,10,10,10,10,10, 20), verbose=True,activation ='relu', batch_size=1000,tol=0.0001,\n",
    "                   learning_rate_init=0.0001, solver ='adam', learning_rate='adaptive', early_stopping = False,alpha =0.9)\n",
    "#mlr.fit(MinMaxScaler(feature_range=(-1,1)).fit_transform(xtr),ytr)\n",
    "#check_gini(mlr, MinMaxScaler(feature_range=(-1,1)).fit_transform(xvl), yvl)\n",
    "mlr.fit(StandardScaler().fit_transform(xtr),ytr)\n",
    "check_gini(mlr, StandardScaler().fit_transform(xvl), yvl)"
   ]
  },
  {
   "cell_type": "code",
   "execution_count": 70,
   "metadata": {},
   "outputs": [
    {
     "name": "stdout",
     "output_type": "stream",
     "text": [
      "[LibLinear]"
     ]
    },
    {
     "data": {
      "image/png": "[encoded data removed]",
      "text/plain": [
       "<matplotlib.figure.Figure at 0x23c861dc908>"
      ]
     },
     "metadata": {},
     "output_type": "display_data"
    },
    {
     "name": "stdout",
     "output_type": "stream",
     "text": [
      "0.227365706879\n"
     ]
    }
   ],
   "source": [
    "lr = LogisticRegression(max_iter=200,verbose = 1)\n",
    "lr.fit(MinMaxScaler(feature_range=(-1,1)).fit_transform(xtr),ytr)\n",
    "check_gini(lr, MinMaxScaler(feature_range=(-1,1)).fit_transform(xvl), yvl)"
   ]
  },
  {
   "cell_type": "code",
   "execution_count": null,
   "metadata": {},
   "outputs": [],
   "source": [
    "feature = train[['ps_car_13', 'ps_reg_03']]\n",
    "target = train['target']\n",
    "mf = mutual_info_classif(train.drop('id',axis=1).values,target.values)\n",
    "print(mf)"
   ]
  },
  {
   "cell_type": "code",
   "execution_count": null,
   "metadata": {},
   "outputs": [],
   "source": [
    "list(train.drop('id',axis=1).columns.values)"
   ]
  },
  {
   "cell_type": "code",
   "execution_count": null,
   "metadata": {},
   "outputs": [],
   "source": [
    "feat = train.drop('id',axis=1).columns.values\n",
    "mi = {}\n",
    "for i in range (len(mf)):\n",
    "    mi[feat[i]]=mf[i]\n",
    "print (mi)"
   ]
  },
  {
   "cell_type": "code",
   "execution_count": null,
   "metadata": {},
   "outputs": [],
   "source": [
    "mi_inverse = {}\n",
    "for i in range (len(mf)):\n",
    "    mi_inverse[mf[i]]=feat[i]\n",
    "print (mi_inverse)"
   ]
  },
  {
   "cell_type": "code",
   "execution_count": null,
   "metadata": {},
   "outputs": [],
   "source": [
    "mi_inverse"
   ]
  },
  {
   "cell_type": "code",
   "execution_count": null,
   "metadata": {
    "collapsed": true
   },
   "outputs": [],
   "source": []
  }
 ],
 "metadata": {
  "kernelspec": {
   "display_name": "Python 3",
   "language": "python",
   "name": "python3"
  },
  "language_info": {
   "codemirror_mode": {
    "name": "ipython",
    "version": 3
   },
   "file_extension": ".py",
   "mimetype": "text/x-python",
   "name": "python",
   "nbconvert_exporter": "python",
   "pygments_lexer": "ipython3",
   "version": "3.6.2"
  }
 },
 "nbformat": 4,
 "nbformat_minor": 2
}
