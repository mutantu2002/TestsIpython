{
 "cells": [
  {
   "cell_type": "code",
   "execution_count": 195,
   "metadata": {},
   "outputs": [],
   "source": [
    "import numpy as np\n",
    "import pandas as pd\n",
    "import seaborn as sns\n",
    "import matplotlib.pyplot as plt\n",
    "from sklearn.linear_model import LogisticRegression\n",
    "from sklearn.cross_validation import train_test_split\n",
    "from sklearn.metrics import confusion_matrix\n",
    "import random\n",
    "from sklearn.metrics import roc_auc_score\n",
    "from sklearn.neural_network import MLPClassifier\n",
    "from sklearn.preprocessing import StandardScaler\n",
    "%matplotlib inline"
   ]
  },
  {
   "cell_type": "code",
   "execution_count": 76,
   "metadata": {
    "collapsed": true
   },
   "outputs": [],
   "source": [
    "train = pd.read_csv('input/train.csv')\n",
    "test = pd.read_csv('input/test.csv')"
   ]
  },
  {
   "cell_type": "code",
   "execution_count": 98,
   "metadata": {},
   "outputs": [
    {
     "name": "stdout",
     "output_type": "stream",
     "text": [
      "0\n",
      "1\n",
      "2\n",
      "3\n",
      "4\n",
      "5\n",
      "6\n",
      "7\n",
      "8\n",
      "9\n",
      "10\n",
      "11\n",
      "12\n",
      "13\n",
      "14\n",
      "15\n",
      "16\n",
      "17\n",
      "18\n",
      "19\n",
      "20\n",
      "21\n",
      "22\n",
      "23\n",
      "24\n",
      "(1000000, 59)\n"
     ]
    }
   ],
   "source": [
    "oversampling = 25\n",
    "New_train = pd.DataFrame(columns = train.columns.values.tolist(),index=np.arange(40000*oversampling), dtype=np.float64)\n",
    "ni=0;\n",
    "for j in range(oversampling):\n",
    "    print(j)\n",
    "    next_target=random.getrandbits(1)\n",
    "    for index, row in train.iterrows():\n",
    "        if (next_target==row['target']):\n",
    "            New_train.loc[ni] = row\n",
    "            next_target=random.getrandbits(1)\n",
    "            ni+=1\n",
    "            if(ni==40000*(j+1)): break\n",
    "print(New_train.shape)"
   ]
  },
  {
   "cell_type": "code",
   "execution_count": 99,
   "metadata": {},
   "outputs": [
    {
     "data": {
      "text/plain": [
       "<matplotlib.text.Text at 0x25001803c88>"
      ]
     },
     "execution_count": 99,
     "metadata": {},
     "output_type": "execute_result"
    },
    {
     "data": {
      "image/png": "[encoded data removed]",
      "text/plain": [
       "<matplotlib.figure.Figure at 0x250127cb9e8>"
      ]
     },
     "metadata": {},
     "output_type": "display_data"
    }
   ],
   "source": [
    "plt.figure(figsize=(10,8))\n",
    "sns.countplot(New_train['target'],palette='rainbow')\n",
    "plt.xlabel('Target')"
   ]
  },
  {
   "cell_type": "code",
   "execution_count": 165,
   "metadata": {
    "collapsed": true
   },
   "outputs": [],
   "source": [
    "X_train = New_train.drop('target',axis=1)\n",
    "X_train = X_train.drop('id',axis=1)\n",
    "y_train = New_train['target']\n",
    "X_train_old = train.drop('target',axis=1)\n",
    "X_train_old = X_train_old.drop('id',axis=1)\n",
    "y_train_old = train['target']"
   ]
  },
  {
   "cell_type": "code",
   "execution_count": 176,
   "metadata": {
    "collapsed": true
   },
   "outputs": [],
   "source": [
    "xtr,xvl,ytr,yvl = train_test_split(X_train,y_train,test_size=0.9,random_state=192)"
   ]
  },
  {
   "cell_type": "code",
   "execution_count": 168,
   "metadata": {
    "scrolled": true
   },
   "outputs": [
    {
     "name": "stdout",
     "output_type": "stream",
     "text": [
      "[LibLinear]"
     ]
    },
    {
     "data": {
      "text/plain": [
       "LogisticRegression(C=1.0, class_weight=None, dual=False, fit_intercept=True,\n",
       "          intercept_scaling=1, max_iter=1000, multi_class='ovr', n_jobs=1,\n",
       "          penalty='l2', random_state=None, solver='liblinear', tol=0.0001,\n",
       "          verbose=1, warm_start=False)"
      ]
     },
     "execution_count": 168,
     "metadata": {},
     "output_type": "execute_result"
    }
   ],
   "source": [
    "lr = LogisticRegression(max_iter=1000,verbose = 1)\n",
    "lr.fit(xtr,ytr)"
   ]
  },
  {
   "cell_type": "code",
   "execution_count": 196,
   "metadata": {},
   "outputs": [],
   "source": [
    "xtr = StandardScaler().fit_transform(xtr)"
   ]
  },
  {
   "cell_type": "code",
   "execution_count": 197,
   "metadata": {},
   "outputs": [
    {
     "data": {
      "text/plain": [
       "MLPClassifier(activation='relu', alpha=0.0001, batch_size=100000, beta_1=0.9,\n",
       "       beta_2=0.999, early_stopping=False, epsilon=1e-08,\n",
       "       hidden_layer_sizes=(100, 30), learning_rate='adaptive',\n",
       "       learning_rate_init=0.002, max_iter=500, momentum=0.9,\n",
       "       nesterovs_momentum=True, power_t=0.5, random_state=None,\n",
       "       shuffle=True, solver='lbfgs', tol=1e-05, validation_fraction=0.1,\n",
       "       verbose=True, warm_start=False)"
      ]
     },
     "execution_count": 197,
     "metadata": {},
     "output_type": "execute_result"
    }
   ],
   "source": [
    "mlr = MLPClassifier(max_iter=500, hidden_layer_sizes=(100,30), verbose=True,activation ='relu', batch_size=100000,tol=0.00001,\n",
    "                   learning_rate_init=0.002, solver ='lbfgs', learning_rate='adaptive')\n",
    "mlr.fit(xtr,ytr)"
   ]
  },
  {
   "cell_type": "code",
   "execution_count": 173,
   "metadata": {},
   "outputs": [
    {
     "name": "stdout",
     "output_type": "stream",
     "text": [
      "[ 0.36730198  0.36730198  0.36730198  0.36730198  0.36737147  0.36737147\n",
      "  0.36737147  0.36737147  0.36737147  0.36737147]\n"
     ]
    },
    {
     "data": {
      "text/html": [
       "<div>\n",
       "<style>\n",
       "    .dataframe thead tr:only-child th {\n",
       "        text-align: right;\n",
       "    }\n",
       "\n",
       "    .dataframe thead th {\n",
       "        text-align: left;\n",
       "    }\n",
       "\n",
       "    .dataframe tbody tr th {\n",
       "        vertical-align: top;\n",
       "    }\n",
       "</style>\n",
       "<table border=\"1\" class=\"dataframe\">\n",
       "  <thead>\n",
       "    <tr style=\"text-align: right;\">\n",
       "      <th></th>\n",
       "      <th>count</th>\n",
       "      <th>mean</th>\n",
       "      <th>std</th>\n",
       "      <th>min</th>\n",
       "      <th>25%</th>\n",
       "      <th>50%</th>\n",
       "      <th>75%</th>\n",
       "      <th>max</th>\n",
       "    </tr>\n",
       "    <tr>\n",
       "      <th>tgt</th>\n",
       "      <th></th>\n",
       "      <th></th>\n",
       "      <th></th>\n",
       "      <th></th>\n",
       "      <th></th>\n",
       "      <th></th>\n",
       "      <th></th>\n",
       "      <th></th>\n",
       "    </tr>\n",
       "  </thead>\n",
       "  <tbody>\n",
       "    <tr>\n",
       "      <th>0.0</th>\n",
       "      <td>250029.0</td>\n",
       "      <td>0.494838</td>\n",
       "      <td>0.042576</td>\n",
       "      <td>0.347936</td>\n",
       "      <td>0.463045</td>\n",
       "      <td>0.490205</td>\n",
       "      <td>0.521819</td>\n",
       "      <td>0.632698</td>\n",
       "    </tr>\n",
       "    <tr>\n",
       "      <th>1.0</th>\n",
       "      <td>249971.0</td>\n",
       "      <td>0.506898</td>\n",
       "      <td>0.045176</td>\n",
       "      <td>0.371819</td>\n",
       "      <td>0.472550</td>\n",
       "      <td>0.502534</td>\n",
       "      <td>0.536892</td>\n",
       "      <td>0.629302</td>\n",
       "    </tr>\n",
       "  </tbody>\n",
       "</table>\n",
       "</div>"
      ],
      "text/plain": [
       "        count      mean       std       min       25%       50%       75%  \\\n",
       "tgt                                                                         \n",
       "0.0  250029.0  0.494838  0.042576  0.347936  0.463045  0.490205  0.521819   \n",
       "1.0  249971.0  0.506898  0.045176  0.371819  0.472550  0.502534  0.536892   \n",
       "\n",
       "          max  \n",
       "tgt            \n",
       "0.0  0.632698  \n",
       "1.0  0.629302  "
      ]
     },
     "execution_count": 173,
     "metadata": {},
     "output_type": "execute_result"
    }
   ],
   "source": [
    "y_lr = mlr.predict_proba(xtr)\n",
    "print(np.sort(y_lr[:, 0])[:10])\n",
    "xx_ = pd.DataFrame(np.hstack((y_lr, ytr.values.reshape((-1,1)))), columns=(\"p0\", \"p1\", \"tgt\")).sort_values(by=\"tgt\", ascending=False)\n",
    "xx_.head()\n",
    "xx_.groupby(\"tgt\").p1.describe()"
   ]
  },
  {
   "cell_type": "code",
   "execution_count": 198,
   "metadata": {},
   "outputs": [
    {
     "data": {
      "image/png": "[encoded data removed]",
      "text/plain": [
       "<matplotlib.figure.Figure at 0x2500004a0b8>"
      ]
     },
     "metadata": {},
     "output_type": "display_data"
    },
    {
     "name": "stdout",
     "output_type": "stream",
     "text": [
      "0.410510204594\n"
     ]
    }
   ],
   "source": [
    "y_lr = mlr.predict_proba(StandardScaler().fit_transform(X_train_old))\n",
    "from sklearn.metrics import roc_curve\n",
    "fp, tp, _ = roc_curve(y_train_old.ravel(),np.zeros_like(y_train_old))\n",
    "fp1, tp1, _ = roc_curve(y_train_old.ravel(), y_lr[:, 1])\n",
    "plt.plot(fp, tp)\n",
    "plt.plot(fp1, tp1, \"r-\")\n",
    "plt.show()\n",
    "print(2*roc_auc_score(y_train_old, y_lr[:, 1])-1)"
   ]
  },
  {
   "cell_type": "code",
   "execution_count": 108,
   "metadata": {},
   "outputs": [
    {
     "data": {
      "text/plain": [
       "(595212, 58)"
      ]
     },
     "execution_count": 108,
     "metadata": {},
     "output_type": "execute_result"
    }
   ],
   "source": [
    "X_train_old.shape"
   ]
  },
  {
   "cell_type": "code",
   "execution_count": 161,
   "metadata": {},
   "outputs": [
    {
     "data": {
      "text/plain": [
       "array([[12420,  1044],\n",
       "       [  959, 14088]], dtype=int64)"
      ]
     },
     "execution_count": 161,
     "metadata": {},
     "output_type": "execute_result"
    }
   ],
   "source": [
    "y_lr = lr.predict(xtr)\n",
    "confusion_matrix(ytr,y_lr)"
   ]
  },
  {
   "cell_type": "code",
   "execution_count": 175,
   "metadata": {},
   "outputs": [
    {
     "name": "stdout",
     "output_type": "stream",
     "text": [
      "0.150753079882\n"
     ]
    }
   ],
   "source": []
  },
  {
   "cell_type": "code",
   "execution_count": 29,
   "metadata": {},
   "outputs": [
    {
     "name": "stdout",
     "output_type": "stream",
     "text": [
      "0.0378732774683\n"
     ]
    }
   ],
   "source": [
    "vc_ = ytr.value_counts()\n",
    "print(vc_[1]/vc_[0])"
   ]
  }
 ],
 "metadata": {
  "kernelspec": {
   "display_name": "Python 3",
   "language": "python",
   "name": "python3"
  },
  "language_info": {
   "codemirror_mode": {
    "name": "ipython",
    "version": 3
   },
   "file_extension": ".py",
   "mimetype": "text/x-python",
   "name": "python",
   "nbconvert_exporter": "python",
   "pygments_lexer": "ipython3",
   "version": "3.6.2"
  }
 },
 "nbformat": 4,
 "nbformat_minor": 2
}
