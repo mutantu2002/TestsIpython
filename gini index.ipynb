{
 "cells": [
  {
   "cell_type": "code",
   "execution_count": 2,
   "metadata": {
    "collapsed": true
   },
   "outputs": [],
   "source": [
    "import numpy as np"
   ]
  },
  {
   "cell_type": "code",
   "execution_count": 3,
   "metadata": {
    "collapsed": true
   },
   "outputs": [],
   "source": [
    "def gini(solution, submission):                                                 \n",
    "    df = sorted(zip(solution, submission), key=lambda x : (x[1], x[0]),  reverse=True)\n",
    "    print (df)\n",
    "    random = [float(i+1)/float(len(df)) for i in range(len(df))]   \n",
    "    print (random)\n",
    "    totalPos = np.sum([x[0] for x in df])                                       \n",
    "    cumPosFound = np.cumsum([x[0] for x in df])                                     \n",
    "    Lorentz = [float(x)/totalPos for x in cumPosFound]                          \n",
    "    Gini = [l - r for l, r in zip(Lorentz, random)]                             \n",
    "    return np.sum(Gini) "
   ]
  },
  {
   "cell_type": "code",
   "execution_count": 4,
   "metadata": {
    "collapsed": true
   },
   "outputs": [],
   "source": [
    "def gini2(solution, submission):\n",
    "    df = zip(solution, submission, range(len(solution)))\n",
    "    df = sorted(df, key=lambda x: (x[1],-x[2]), reverse=True)\n",
    "    rand = [float(i+1)/float(len(df)) for i in range(len(df))]\n",
    "    totalPos = float(sum([x[0] for x in df]))\n",
    "    cumPosFound = [df[0][0]]\n",
    "    for i in range(1,len(df)):\n",
    "        cumPosFound.append(cumPosFound[len(cumPosFound)-1] + df[i][0])\n",
    "    Lorentz = [float(x)/totalPos for x in cumPosFound]\n",
    "    Gini = [Lorentz[i]-rand[i] for i in range(len(df))]\n",
    "    return sum(Gini)"
   ]
  },
  {
   "cell_type": "code",
   "execution_count": 5,
   "metadata": {
    "collapsed": true
   },
   "outputs": [],
   "source": [
    "def normalized_gini2(solution, submission):                                      \n",
    "    normalized_gini = gini2(solution, submission)/gini2(solution, solution)       \n",
    "    return normalized_gini    "
   ]
  },
  {
   "cell_type": "code",
   "execution_count": 6,
   "metadata": {
    "collapsed": true
   },
   "outputs": [],
   "source": [
    "def normalized_gini(solution, submission):                                      \n",
    "    normalized_gini = gini(solution, submission)/gini(solution, solution)       \n",
    "    return normalized_gini "
   ]
  },
  {
   "cell_type": "code",
   "execution_count": 7,
   "metadata": {},
   "outputs": [
    {
     "data": {
      "text/plain": [
       "[30, 31, 32, 33, 34, 35, 36, 37, 38, 39]"
      ]
     },
     "execution_count": 7,
     "metadata": {},
     "output_type": "execute_result"
    }
   ],
   "source": [
    "predicted_y = [i for i in range(10)] \n",
    "desired_y = [30+i for i in range(10)]\n",
    "desired_y"
   ]
  },
  {
   "cell_type": "code",
   "execution_count": 8,
   "metadata": {},
   "outputs": [
    {
     "name": "stdout",
     "output_type": "stream",
     "text": [
      "[(39, 9), (38, 8), (37, 7), (36, 6), (35, 5), (34, 4), (33, 3), (32, 2), (31, 1), (30, 0)]\n",
      "[0.1, 0.2, 0.3, 0.4, 0.5, 0.6, 0.7, 0.8, 0.9, 1.0]\n",
      "[(39, 39), (38, 38), (37, 37), (36, 36), (35, 35), (34, 34), (33, 33), (32, 32), (31, 31), (30, 30)]\n",
      "[0.1, 0.2, 0.3, 0.4, 0.5, 0.6, 0.7, 0.8, 0.9, 1.0]\n",
      "1.0\n",
      "1.0\n"
     ]
    }
   ],
   "source": [
    "print(normalized_gini( desired_y, predicted_y))\n",
    "print(normalized_gini2( desired_y,predicted_y))"
   ]
  },
  {
   "cell_type": "code",
   "execution_count": 9,
   "metadata": {
    "collapsed": true
   },
   "outputs": [],
   "source": [
    "from sklearn.metrics import roc_auc_score\n",
    "def gini_auc(y_actual, y_pred):\n",
    "  return roc_auc_score(y_actual, y_pred)"
   ]
  },
  {
   "cell_type": "code",
   "execution_count": 12,
   "metadata": {},
   "outputs": [
    {
     "name": "stdout",
     "output_type": "stream",
     "text": [
      "[1, 0.66, 0.3, 0.1, 0.44, 0.76, 0.9]\n",
      "0.666666666667\n"
     ]
    }
   ],
   "source": [
    "truey = [0,1,0,0,1,1,1]\n",
    "predictiony = [1, 0.66,0.3,0.1,0.44,0.76,0.9]\n",
    "print (predictiony)\n",
    "print (gini_auc(truey, predictiony))"
   ]
  },
  {
   "cell_type": "code",
   "execution_count": null,
   "metadata": {
    "collapsed": true
   },
   "outputs": [],
   "source": []
  }
 ],
 "metadata": {
  "kernelspec": {
   "display_name": "Python 3",
   "language": "python",
   "name": "python3"
  },
  "language_info": {
   "codemirror_mode": {
    "name": "ipython",
    "version": 3
   },
   "file_extension": ".py",
   "mimetype": "text/x-python",
   "name": "python",
   "nbconvert_exporter": "python",
   "pygments_lexer": "ipython3",
   "version": "3.6.2"
  }
 },
 "nbformat": 4,
 "nbformat_minor": 2
}
