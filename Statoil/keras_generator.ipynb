{
 "cells": [
  {
   "cell_type": "code",
   "execution_count": 1,
   "metadata": {
    "_cell_guid": "ea3f4874-a9aa-42f1-9605-b1784a6f48ba",
    "_uuid": "58c82d3b3c4b4305b388a6ac4eeca49d600f9105"
   },
   "outputs": [],
   "source": [
    "import numpy as np\n",
    "import pandas as pd\n",
    "from sklearn.model_selection import train_test_split\n",
    "from os.path import join as opj\n",
    "from matplotlib import pyplot as plt\n",
    "from mpl_toolkits.mplot3d import Axes3D\n",
    "from skimage.restoration import denoise_tv_bregman\n",
    "import pylab\n",
    "plt.rcParams['figure.figsize'] = 10, 10\n",
    "%matplotlib inline"
   ]
  },
  {
   "cell_type": "code",
   "execution_count": 2,
   "metadata": {
    "_cell_guid": "804d3969-9035-4ceb-bb65-1b8549d729ec",
    "_uuid": "7a7f3af5ef279a9ed26c4d9ee764bd1fb4bdf10e"
   },
   "outputs": [],
   "source": [
    "#Load the data.\n",
    "train = pd.read_json(\"input/train.json\")"
   ]
  },
  {
   "cell_type": "code",
   "execution_count": 3,
   "metadata": {
    "_cell_guid": "7b546aab-7b7d-4cde-91cc-e794fd4041bd",
    "_uuid": "2c18cf164fbbc6d1c29e9c668cbfcd7a1ea10824"
   },
   "outputs": [],
   "source": [
    "test = pd.read_json(\"input/test.json\")"
   ]
  },
  {
   "cell_type": "markdown",
   "metadata": {
    "_cell_guid": "e178779f-0698-47cd-9be5-50f9c9590089",
    "_uuid": "f5b6c2ba24e6bf5726f8551cdeeeaf931184c2bc"
   },
   "source": [
    "#Intro about the Data.\n",
    "\n",
    "Sentinet -1 sat is at about 680 Km above earth. Sending pulses of signals at a particular angle of incidence and then recoding it back. Basically those reflected signals are called backscatter. The data we have been given is backscatter coefficient which is the conventional form of backscatter coefficient given by:\n",
    "\n",
    "$σo (dB) = βo (dB) + 10log10 [ sin(ip) / sin (ic)] $\n",
    "\n",
    "where\n",
    "1. ip=is angle of incidence for a particular pixel\n",
    "2. 'ic ' is angle of incidence for center of the image\n",
    "3. K =constant.\n",
    "\n",
    "We have been given $σo$ directly in the data. \n",
    "###Now coming to the features of $σo$\n",
    "Basically σo varies with the surface on which the signal is scattered from. For example, for a particular angle of incidence, it varies like:\n",
    "*             WATER...........           SETTLEMENTS........           AGRICULTURE...........          BARREN........\n",
    "\n",
    "1.**HH:**     -27.001   ................                     2.70252       .................                -12.7952        ................    -17.25790909\n",
    "\n",
    "2.**HV: **      -28.035      ................            -20.2665             ..................          -21.4471       .................     -20.019\n",
    "\n",
    "As you can see, the HH component varies a lot but HV doesn't.\n",
    "**I don't have the data for scatter from ship, but being a metal object, it should vary differently as compared to ice object.**\n",
    "\n",
    "###WTF is HH HV?\n",
    "\n",
    "Ok, so this Sentinal Settalite is equivalent to RISTSAT(an Indian remote sensing Sat) and they only Transmit pings in H polarization, **AND NOT IN V polarization**.  Those H-pings gets scattered, objects change their polarization and returns as a mix of H and V.\n",
    "**Since Sentinel has only H-transmitter, return signals are of the form of HH and HV only**. Don't ask why VV is not given(because Sentinel don't have V-ping transmitter).\n",
    "\n",
    "Now coming to features, for the purpose of this demo code, I am extracting all two bands and taking avg of them as 3rd channel to create a 3-channel RGB equivalent. \n"
   ]
  },
  {
   "cell_type": "code",
   "execution_count": 4,
   "metadata": {},
   "outputs": [],
   "source": [
    "from scipy.ndimage import rotate as rot\n",
    "def augment(images):\n",
    "    image_mirror_lr = []\n",
    "    image_mirror_ud = []\n",
    "    image_rotate30 = []\n",
    "    image_rotate60 = []\n",
    "    image_rotate110 = []\n",
    "    image_rotate155 = []\n",
    "    for i in range(0,images.shape[0]):\n",
    "        band_1 = images[i,:,:,0]\n",
    "        band_2 = images[i,:,:,1]\n",
    "            \n",
    "        # mirror left-right\n",
    "        band_1_mirror_lr = np.flip(band_1, 0)\n",
    "        band_2_mirror_lr = np.flip(band_2, 0)\n",
    "        image_mirror_lr.append(np.dstack((band_1_mirror_lr, band_2_mirror_lr)))\n",
    "        \n",
    "        # mirror up-down\n",
    "        band_1_mirror_ud = np.flip(band_1, 1)\n",
    "        band_2_mirror_ud = np.flip(band_2, 1)\n",
    "        image_mirror_ud.append(np.dstack((band_1_mirror_ud, band_2_mirror_ud)))\n",
    "        \n",
    "        #rotate \n",
    "        band_1_rotate = rot(band_1, 30, reshape=False, mode='reflect')\n",
    "        band_2_rotate = rot(band_2, 30, reshape=False, mode='reflect')\n",
    "        image_rotate30.append(np.dstack((band_1_rotate, band_2_rotate)))\n",
    "        \n",
    "        band_1_rotate = rot(band_1, 60, reshape=False, mode='reflect')\n",
    "        band_2_rotate = rot(band_2, 60, reshape=False, mode='reflect')\n",
    "        image_rotate60.append(np.dstack((band_1_rotate, band_2_rotate)))\n",
    "\n",
    "        band_1_rotate = rot(band_1, 110, reshape=False, mode='reflect')\n",
    "        band_2_rotate = rot(band_2, 110, reshape=False, mode='reflect')\n",
    "        image_rotate110.append(np.dstack((band_1_rotate, band_2_rotate)))\n",
    "        \n",
    "        band_1_rotate = rot(band_1, 155, reshape=False, mode='reflect')\n",
    "        band_2_rotate = rot(band_2, 155, reshape=False, mode='reflect')\n",
    "        image_rotate155.append(np.dstack((band_1_rotate, band_2_rotate)))\n",
    "        \n",
    "    mirrorlr = np.array(image_mirror_lr)\n",
    "    mirrorud = np.array(image_mirror_ud)\n",
    "    rotated30 = np.array(image_rotate30)\n",
    "    rotated60 = np.array(image_rotate60)\n",
    "    rotated110 = np.array(image_rotate110)\n",
    "    rotated155 = np.array(image_rotate155)\n",
    "    images = np.concatenate((images, mirrorlr, mirrorud, rotated30, rotated60, rotated110, rotated155))\n",
    "    return images"
   ]
  },
  {
   "cell_type": "code",
   "execution_count": 6,
   "metadata": {},
   "outputs": [],
   "source": [
    "X_band_1=np.array([denoise_tv_bregman(np.array(band).reshape(75, 75),weight=0.5) for band in train[\"band_1\"]])\n",
    "X_band_2=np.array([denoise_tv_bregman(np.array(band).reshape(75, 75),weight=0.5) for band in train[\"band_2\"]])\n",
    "\n",
    "X_band_1=np.array([np.array(band).astype(np.float32) for band in X_band_1])\n",
    "X_band_2=np.array([np.array(band).astype(np.float32) for band in X_band_2])\n",
    "\n",
    "X_band_1=np.array([band-band.mean() for band in X_band_1])\n",
    "X_band_2=np.array([band-band.mean() for band in X_band_2])\n",
    "\n",
    "X_band_1=np.array([band/band.std() for band in X_band_1])\n",
    "X_band_2=np.array([band/band.std() for band in X_band_2])"
   ]
  },
  {
   "cell_type": "code",
   "execution_count": null,
   "metadata": {},
   "outputs": [],
   "source": [
    "#X_band_1=np.array([band.reshape(75, 75) for band in X_band_1])\n",
    "#X_band_2=np.array([band.reshape(75, 75) for band in X_band_2])"
   ]
  },
  {
   "cell_type": "code",
   "execution_count": 7,
   "metadata": {},
   "outputs": [],
   "source": [
    "#X_train = np.concatenate([X_band_1[:, :, :, np.newaxis], X_band_2[:, :, :, np.newaxis],((X_band_1+X_band_2)/2)[:, :, :, np.newaxis]], axis=-1)\n",
    "X_train2 = np.concatenate([X_band_1[:, :, :, np.newaxis], X_band_2[:, :, :, np.newaxis]], axis=-1)\n",
    "target_train=train['is_iceberg']"
   ]
  },
  {
   "cell_type": "code",
   "execution_count": 8,
   "metadata": {
    "_cell_guid": "1d690d4a-09ca-417c-8090-2aa417c514dd",
    "_uuid": "a883659e53709da950d04a4e5349c66d77a9422f"
   },
   "outputs": [
    {
     "name": "stderr",
     "output_type": "stream",
     "text": [
      "C:\\Anaconda3\\envs\\tfgpu\\lib\\site-packages\\sklearn\\model_selection\\_split.py:2026: FutureWarning: From version 0.21, test_size will always complement train_size unless both are specified.\n",
      "  FutureWarning)\n"
     ]
    }
   ],
   "source": [
    "X_train_cv, X_valid, y_train_cv, y_valid = train_test_split(X_train2, target_train, random_state=1, train_size=0.75)"
   ]
  },
  {
   "cell_type": "code",
   "execution_count": null,
   "metadata": {
    "_cell_guid": "829bf7db-fab1-4a2d-9562-0a37c6390d2a",
    "_uuid": "5292632717f11cd01c135dfabfd3cda9318cc639"
   },
   "outputs": [],
   "source": [
    "#X_train_cv = augment(X_train_cv)\n",
    "#y_train_cv = np.concatenate((y_train_cv,y_train_cv, y_train_cv, y_train_cv,y_train_cv,y_train_cv,y_train_cv))"
   ]
  },
  {
   "cell_type": "code",
   "execution_count": 9,
   "metadata": {},
   "outputs": [
    {
     "data": {
      "image/png": "[encoded data removed]",
      "text/plain": [
       "<matplotlib.figure.Figure at 0x23dbf72da58>"
      ]
     },
     "metadata": {},
     "output_type": "display_data"
    }
   ],
   "source": [
    "fig = plt.figure(200, figsize=(15, 15))\n",
    "ax = fig.add_subplot(3, 3, 1)\n",
    "ax.imshow(X_train2[14,:,:,0],cmap='Greys')\n",
    "plt.show()"
   ]
  },
  {
   "cell_type": "code",
   "execution_count": null,
   "metadata": {},
   "outputs": [],
   "source": [
    "fig = plt.figure(4, figsize=(15, 15))\n",
    "ax = fig.add_subplot(1, 3, 1)\n",
    "image1 = np.array(train[\"band_1\"][8]).reshape(75, 75)\n",
    "ax.imshow(image1,cmap='Greys')\n",
    "ax = fig.add_subplot(1, 3, 2)\n",
    "ax.imshow(denoise_tv_bregman(image1,weight=0.1),cmap='Greys')\n",
    "ax = fig.add_subplot(1, 3, 3)\n",
    "ax.imshow(denoise_tv_bregman(image1,weight=0.5),cmap='Greys')\n",
    "plt.show()"
   ]
  },
  {
   "cell_type": "code",
   "execution_count": null,
   "metadata": {
    "scrolled": false
   },
   "outputs": [],
   "source": [
    "fig = plt.figure(200, figsize=(20, 200))\n",
    "j=1\n",
    "for i in range(0,100):\n",
    "    if(target_train[i]==1):\n",
    "        ax = fig.add_subplot(100, 11, j)\n",
    "        ax.imshow(X_train2[i,:,:,0],cmap='Greys')\n",
    "        j+=1\n",
    "plt.show()"
   ]
  },
  {
   "cell_type": "code",
   "execution_count": null,
   "metadata": {},
   "outputs": [],
   "source": [
    "fig = plt.figure(200, figsize=(20, 200))\n",
    "j=1\n",
    "for i in range(0,100):\n",
    "    if(target_train[i]==0):\n",
    "        ax = fig.add_subplot(100, 11, j)\n",
    "        ax.imshow(X_train2[i,:,:,0],cmap='Greys')\n",
    "        j+=1\n",
    "plt.show()"
   ]
  },
  {
   "cell_type": "code",
   "execution_count": null,
   "metadata": {
    "_cell_guid": "a95eedd5-fc75-4834-a817-e3ad700923f5",
    "_uuid": "01b69c50c6425d7d35b9bbefca7c06ea4bf1214b",
    "scrolled": false
   },
   "outputs": [],
   "source": [
    "#Take a look at a iceberg\n",
    "import plotly.offline as py\n",
    "import plotly.graph_objs as go\n",
    "py.init_notebook_mode(connected=True)\n",
    "def plotmy3d(c, name):\n",
    "\n",
    "    data = [\n",
    "        go.Surface(\n",
    "            z=c\n",
    "        )\n",
    "    ]\n",
    "    layout = go.Layout(\n",
    "        title=name,\n",
    "        autosize=False,\n",
    "        width=700,\n",
    "        height=700,\n",
    "        margin=dict(\n",
    "            l=65,\n",
    "            r=50,\n",
    "            b=65,\n",
    "            t=90\n",
    "        )\n",
    "    )\n",
    "    fig = go.Figure(data=data, layout=layout)\n",
    "    py.iplot(fig)\n",
    "plotmy3d(X_train2[1,:,:,0], 'iceberg')"
   ]
  },
  {
   "cell_type": "markdown",
   "metadata": {
    "_cell_guid": "cd7ea3c1-f039-445e-b5da-adfb608930d7",
    "_uuid": "1c65412c80ff504df19d55aa14093ebcd1028e6a"
   },
   "source": [
    "That's a cool looking iceberg we have. Remember, in radar data, the shape of the iceberg is going to be like a mountain as shown in here. Since this is not a actual image but scatter from radar, the shape is going to have peaks and distortions like these. The shape of the ship is going to be like a point, may be like a elongated point. From here the structural differences arise and we can exploit those differences using a CNN. It would be helpful if we can create composite images using the backscatter from radar."
   ]
  },
  {
   "cell_type": "code",
   "execution_count": null,
   "metadata": {
    "_cell_guid": "f78d43c6-c83e-47e3-a279-4dc8d3481c6c",
    "_uuid": "ab163fd947f3f108eacb0d367bf62505b0b9df9b",
    "scrolled": true
   },
   "outputs": [],
   "source": [
    "plotmy3d(X_train2[14,:,:,1], 'Ship')"
   ]
  },
  {
   "cell_type": "markdown",
   "metadata": {
    "_cell_guid": "1e2a6f33-992a-435e-be65-5ee614e6f7ba",
    "_uuid": "f907f993a1c63f4519872ecb381021c1a0dce2ca"
   },
   "source": [
    "That's a ship, looks like a elongated point. We don't have much resolution in images to visualize the shape of the ship. However CNN is here to help. There are few papers on ship iceberg classification like this:\n",
    "http://elib.dlr.de/99079/2/2016_BENTES_Frost_Velotto_Tings_EUSAR_FP.pdf\n",
    "However their data have much better resolution so I don't  feel that the CNN they used would be suitable here."
   ]
  },
  {
   "cell_type": "code",
   "execution_count": 10,
   "metadata": {
    "_cell_guid": "fb15bc53-becc-4e87-88ce-3bc99d45358d",
    "_uuid": "7a68a94f8c617209dfe56a58e291193e963d0f62"
   },
   "outputs": [
    {
     "name": "stderr",
     "output_type": "stream",
     "text": [
      "Using TensorFlow backend.\n"
     ]
    }
   ],
   "source": [
    "#Import Keras.\n",
    "from matplotlib import pyplot\n",
    "from keras.preprocessing.image import ImageDataGenerator\n",
    "from keras.models import Sequential\n",
    "from keras.layers import Conv2D, MaxPooling2D, Dense, Dropout, Input, Flatten, Activation\n",
    "from keras.layers import GlobalMaxPooling2D\n",
    "from keras.layers.normalization import BatchNormalization\n",
    "from keras.layers.merge import Concatenate\n",
    "from keras.models import Model\n",
    "from keras import initializers\n",
    "from keras.optimizers import Adam\n",
    "from keras.optimizers import Nadam\n",
    "from keras.optimizers import SGD\n",
    "from keras.callbacks import ModelCheckpoint, Callback, EarlyStopping\n",
    "import keras.regularizers as reg\n",
    "import time"
   ]
  },
  {
   "cell_type": "code",
   "execution_count": 11,
   "metadata": {},
   "outputs": [],
   "source": [
    "def get_callbacks(filepath, patience=2):\n",
    "    es = EarlyStopping('val_loss', patience=patience, mode=\"min\")\n",
    "    msave = ModelCheckpoint(filepath, save_best_only=True)\n",
    "    return [es, msave]"
   ]
  },
  {
   "cell_type": "code",
   "execution_count": 40,
   "metadata": {},
   "outputs": [],
   "source": [
    "def getModel():\n",
    "    model = Sequential()\n",
    "\n",
    "    model.add(Conv2D(64, kernel_size=(3,3), input_shape=(75,75,2)))\n",
    "    model.add(Activation('relu'))\n",
    "    model.add(MaxPooling2D(pool_size=(2, 2), strides=(2, 2)))\n",
    "\n",
    "    model.add(Conv2D(128, kernel_size=(3, 3)))\n",
    "    model.add(Activation('relu'))\n",
    "    model.add(MaxPooling2D(pool_size=(2, 2), strides=(2, 2)))\n",
    "\n",
    "    model.add(Conv2D(128, kernel_size=(2, 2)))\n",
    "    model.add(Activation('relu'))\n",
    "    model.add(MaxPooling2D(pool_size=(2, 2), strides=(2, 2)))\n",
    "\n",
    "    model.add(Conv2D(64, kernel_size=(2,2), input_shape=(75,75,2)))\n",
    "    model.add(Activation('relu'))\n",
    "    model.add(MaxPooling2D(pool_size=(2, 2), strides=(2, 2)))\n",
    "    \n",
    "    model.add(Flatten())\n",
    "\n",
    "    model.add(Dense(256))\n",
    "    model.add(Activation('relu'))\n",
    "    #model.add(Dropout(0.7))\n",
    "    \n",
    "    model.add(Dense(256))\n",
    "    model.add(Activation('relu'))\n",
    "    #model.add(Dropout(0.7))\n",
    "    \n",
    "    model.add(Dense(1))\n",
    "    model.add(Activation('sigmoid'))\n",
    "\n",
    "    mypotim=Adam(lr=0.00015)\n",
    "    #mypotim=SGD(lr=0.001,decay=1e-4, momentum=0.9,nesterov=True)\n",
    "    \n",
    "    model.compile(loss='binary_crossentropy', optimizer = mypotim, metrics=['accuracy'])\n",
    "\n",
    "    model.summary()\n",
    "    return model\n"
   ]
  },
  {
   "cell_type": "code",
   "execution_count": 41,
   "metadata": {},
   "outputs": [
    {
     "name": "stderr",
     "output_type": "stream",
     "text": [
      "C:\\Anaconda3\\envs\\tfgpu\\lib\\site-packages\\keras\\preprocessing\\image.py:653: UserWarning: Expected input to be images (as Numpy array) following the data format convention \"channels_last\" (channels on axis 3), i.e. expected either 1, 3 or 4 channels on axis 3. However, it was passed an array with shape (1203, 75, 75, 2) (2 channels).\n",
      "  ' (' + str(x.shape[self.channel_axis]) + ' channels).')\n"
     ]
    }
   ],
   "source": [
    "datagen = ImageDataGenerator(\n",
    "    rotation_range=15,\n",
    "    width_shift_range=0.3,\n",
    "    height_shift_range=0.3,\n",
    "    horizontal_flip=True,\n",
    "    vertical_flip=True,\n",
    "    fill_mode='wrap')\n",
    "datagen.fit(X_train_cv)"
   ]
  },
  {
   "cell_type": "code",
   "execution_count": 42,
   "metadata": {
    "_cell_guid": "d6bb750a-e882-4429-ad23-4392389f427f",
    "_uuid": "4e6dab11165b7d9515eb32b698851b260f0d941f",
    "scrolled": false
   },
   "outputs": [
    {
     "name": "stdout",
     "output_type": "stream",
     "text": [
      "_________________________________________________________________\n",
      "Layer (type)                 Output Shape              Param #   \n",
      "=================================================================\n",
      "conv2d_38 (Conv2D)           (None, 73, 73, 64)        1216      \n",
      "_________________________________________________________________\n",
      "activation_59 (Activation)   (None, 73, 73, 64)        0         \n",
      "_________________________________________________________________\n",
      "max_pooling2d_32 (MaxPooling (None, 36, 36, 64)        0         \n",
      "_________________________________________________________________\n",
      "conv2d_39 (Conv2D)           (None, 34, 34, 128)       73856     \n",
      "_________________________________________________________________\n",
      "activation_60 (Activation)   (None, 34, 34, 128)       0         \n",
      "_________________________________________________________________\n",
      "max_pooling2d_33 (MaxPooling (None, 17, 17, 128)       0         \n",
      "_________________________________________________________________\n",
      "conv2d_40 (Conv2D)           (None, 16, 16, 128)       65664     \n",
      "_________________________________________________________________\n",
      "activation_61 (Activation)   (None, 16, 16, 128)       0         \n",
      "_________________________________________________________________\n",
      "max_pooling2d_34 (MaxPooling (None, 8, 8, 128)         0         \n",
      "_________________________________________________________________\n",
      "conv2d_41 (Conv2D)           (None, 7, 7, 64)          32832     \n",
      "_________________________________________________________________\n",
      "activation_62 (Activation)   (None, 7, 7, 64)          0         \n",
      "_________________________________________________________________\n",
      "max_pooling2d_35 (MaxPooling (None, 3, 3, 64)          0         \n",
      "_________________________________________________________________\n",
      "flatten_8 (Flatten)          (None, 576)               0         \n",
      "_________________________________________________________________\n",
      "dense_22 (Dense)             (None, 256)               147712    \n",
      "_________________________________________________________________\n",
      "activation_63 (Activation)   (None, 256)               0         \n",
      "_________________________________________________________________\n",
      "dense_23 (Dense)             (None, 256)               65792     \n",
      "_________________________________________________________________\n",
      "activation_64 (Activation)   (None, 256)               0         \n",
      "_________________________________________________________________\n",
      "dense_24 (Dense)             (None, 1)                 257       \n",
      "_________________________________________________________________\n",
      "activation_65 (Activation)   (None, 1)                 0         \n",
      "=================================================================\n",
      "Total params: 387,329\n",
      "Trainable params: 387,329\n",
      "Non-trainable params: 0\n",
      "_________________________________________________________________\n"
     ]
    },
    {
     "name": "stderr",
     "output_type": "stream",
     "text": [
      "C:\\Anaconda3\\envs\\tfgpu\\lib\\site-packages\\keras\\preprocessing\\image.py:787: UserWarning: NumpyArrayIterator is set to use the data format convention \"channels_last\" (channels on axis 3), i.e. expected either 1, 3 or 4 channels on axis 3. However, it was passed an array with shape (1203, 75, 75, 2) (2 channels).\n",
      "  ' (' + str(self.x.shape[channels_axis]) + ' channels).')\n"
     ]
    },
    {
     "name": "stdout",
     "output_type": "stream",
     "text": [
      "Epoch 1/200\n",
      "38/37 [==============================] - 2s - loss: 0.6728 - acc: 0.5777 - val_loss: 0.6406 - val_acc: 0.6035\n",
      "Epoch 2/200\n",
      "38/37 [==============================] - 1s - loss: 0.6365 - acc: 0.6350 - val_loss: 0.5846 - val_acc: 0.6658\n",
      "Epoch 3/200\n",
      "38/37 [==============================] - 1s - loss: 0.5780 - acc: 0.6948 - val_loss: 0.5175 - val_acc: 0.7581\n",
      "Epoch 4/200\n",
      "38/37 [==============================] - 1s - loss: 0.5415 - acc: 0.7376 - val_loss: 0.4762 - val_acc: 0.7980\n",
      "Epoch 5/200\n",
      "38/37 [==============================] - 1s - loss: 0.4864 - acc: 0.7749 - val_loss: 0.4016 - val_acc: 0.8354\n",
      "Epoch 6/200\n",
      "38/37 [==============================] - 1s - loss: 0.4940 - acc: 0.7606 - val_loss: 0.3748 - val_acc: 0.8653\n",
      "Epoch 7/200\n",
      "38/37 [==============================] - 1s - loss: 0.4497 - acc: 0.7908 - val_loss: 0.3383 - val_acc: 0.8703\n",
      "Epoch 8/200\n",
      "38/37 [==============================] - 1s - loss: 0.4084 - acc: 0.8248 - val_loss: 0.3056 - val_acc: 0.8653\n",
      "Epoch 9/200\n",
      "38/37 [==============================] - 1s - loss: 0.3794 - acc: 0.8423 - val_loss: 0.3129 - val_acc: 0.8454\n",
      "Epoch 10/200\n",
      "38/37 [==============================] - 1s - loss: 0.3760 - acc: 0.8284 - val_loss: 0.3837 - val_acc: 0.8329\n",
      "Epoch 11/200\n",
      "38/37 [==============================] - 1s - loss: 0.3651 - acc: 0.8338 - val_loss: 0.2588 - val_acc: 0.8853\n",
      "Epoch 12/200\n",
      "38/37 [==============================] - 1s - loss: 0.3242 - acc: 0.8582 - val_loss: 0.3314 - val_acc: 0.8529\n",
      "Epoch 13/200\n",
      "38/37 [==============================] - 1s - loss: 0.3544 - acc: 0.8396 - val_loss: 0.3287 - val_acc: 0.8479\n",
      "Epoch 14/200\n",
      "38/37 [==============================] - 1s - loss: 0.3425 - acc: 0.8426 - val_loss: 0.2563 - val_acc: 0.8928\n",
      "Epoch 15/200\n",
      "38/37 [==============================] - 1s - loss: 0.3383 - acc: 0.8410 - val_loss: 0.3200 - val_acc: 0.8579\n",
      "Epoch 16/200\n",
      "38/37 [==============================] - 1s - loss: 0.3413 - acc: 0.8418 - val_loss: 0.3180 - val_acc: 0.8354\n",
      "Epoch 17/200\n",
      "38/37 [==============================] - 1s - loss: 0.3269 - acc: 0.8486 - val_loss: 0.3003 - val_acc: 0.8703\n",
      "Epoch 18/200\n",
      "38/37 [==============================] - 1s - loss: 0.3896 - acc: 0.8114 - val_loss: 0.2881 - val_acc: 0.8753\n",
      "Epoch 19/200\n",
      "38/37 [==============================] - 1s - loss: 0.3234 - acc: 0.8596 - val_loss: 0.2556 - val_acc: 0.8753\n",
      "Epoch 20/200\n",
      "38/37 [==============================] - 1s - loss: 0.2968 - acc: 0.8687 - val_loss: 0.2363 - val_acc: 0.8853\n",
      "Epoch 21/200\n",
      "38/37 [==============================] - 1s - loss: 0.3087 - acc: 0.8563 - val_loss: 0.4006 - val_acc: 0.8204\n",
      "Epoch 22/200\n",
      "38/37 [==============================] - 1s - loss: 0.3174 - acc: 0.8563 - val_loss: 0.2515 - val_acc: 0.8853\n",
      "Epoch 23/200\n",
      "38/37 [==============================] - 1s - loss: 0.3247 - acc: 0.8580 - val_loss: 0.2554 - val_acc: 0.8728\n",
      "Epoch 24/200\n",
      "38/37 [==============================] - 1s - loss: 0.3199 - acc: 0.8552 - val_loss: 0.2418 - val_acc: 0.8928\n",
      "Epoch 25/200\n",
      "38/37 [==============================] - 1s - loss: 0.2935 - acc: 0.8774 - val_loss: 0.2295 - val_acc: 0.9027\n",
      "Epoch 26/200\n",
      "38/37 [==============================] - 1s - loss: 0.2887 - acc: 0.8621 - val_loss: 0.2432 - val_acc: 0.8928\n",
      "Epoch 27/200\n",
      "38/37 [==============================] - 1s - loss: 0.2834 - acc: 0.8794 - val_loss: 0.3319 - val_acc: 0.8628\n",
      "Epoch 28/200\n",
      "38/37 [==============================] - 1s - loss: 0.2825 - acc: 0.8832 - val_loss: 0.2532 - val_acc: 0.8903\n",
      "Epoch 29/200\n",
      "38/37 [==============================] - 1s - loss: 0.2630 - acc: 0.8903 - val_loss: 0.2241 - val_acc: 0.8978\n",
      "Epoch 30/200\n",
      "38/37 [==============================] - 1s - loss: 0.3034 - acc: 0.8654 - val_loss: 0.3020 - val_acc: 0.8728\n",
      "Epoch 31/200\n",
      "38/37 [==============================] - 1s - loss: 0.2929 - acc: 0.8714 - val_loss: 0.2614 - val_acc: 0.8803\n",
      "Epoch 32/200\n",
      "38/37 [==============================] - 1s - loss: 0.2975 - acc: 0.8703 - val_loss: 0.2559 - val_acc: 0.8853\n",
      "Epoch 33/200\n",
      "38/37 [==============================] - 1s - loss: 0.3027 - acc: 0.8755 - val_loss: 0.2624 - val_acc: 0.8853\n",
      "Epoch 34/200\n",
      "38/37 [==============================] - 1s - loss: 0.2778 - acc: 0.8835 - val_loss: 0.2192 - val_acc: 0.9027\n",
      "Epoch 35/200\n",
      "38/37 [==============================] - 1s - loss: 0.2809 - acc: 0.8744 - val_loss: 0.2394 - val_acc: 0.9027\n",
      "Epoch 36/200\n",
      "38/37 [==============================] - 1s - loss: 0.2768 - acc: 0.8769 - val_loss: 0.2673 - val_acc: 0.8803\n",
      "Epoch 37/200\n",
      "38/37 [==============================] - 1s - loss: 0.2883 - acc: 0.8761 - val_loss: 0.2236 - val_acc: 0.9002\n",
      "Epoch 38/200\n",
      "38/37 [==============================] - 1s - loss: 0.2726 - acc: 0.8813 - val_loss: 0.2800 - val_acc: 0.8778\n",
      "Epoch 39/200\n",
      "38/37 [==============================] - 1s - loss: 0.2922 - acc: 0.8739 - val_loss: 0.2158 - val_acc: 0.9102\n",
      "Epoch 40/200\n",
      "38/37 [==============================] - 1s - loss: 0.2864 - acc: 0.8700 - val_loss: 0.2552 - val_acc: 0.8878\n",
      "Epoch 41/200\n",
      "38/37 [==============================] - 1s - loss: 0.2844 - acc: 0.8818 - val_loss: 0.2283 - val_acc: 0.9002\n",
      "Epoch 42/200\n",
      "38/37 [==============================] - 1s - loss: 0.2732 - acc: 0.8747 - val_loss: 0.2914 - val_acc: 0.8678\n",
      "Epoch 43/200\n",
      "38/37 [==============================] - 1s - loss: 0.2716 - acc: 0.8854 - val_loss: 0.2476 - val_acc: 0.8953\n",
      "Epoch 44/200\n",
      "38/37 [==============================] - 1s - loss: 0.2953 - acc: 0.8752 - val_loss: 0.2361 - val_acc: 0.8978\n",
      "Epoch 45/200\n",
      "38/37 [==============================] - 1s - loss: 0.2636 - acc: 0.8709 - val_loss: 0.2249 - val_acc: 0.9002\n",
      "Epoch 46/200\n",
      "38/37 [==============================] - 1s - loss: 0.2677 - acc: 0.8870 - val_loss: 0.3810 - val_acc: 0.8479\n",
      "Epoch 47/200\n",
      "38/37 [==============================] - 1s - loss: 0.2499 - acc: 0.8824 - val_loss: 0.2132 - val_acc: 0.8978\n",
      "Epoch 48/200\n",
      "38/37 [==============================] - 1s - loss: 0.2721 - acc: 0.8865 - val_loss: 0.2734 - val_acc: 0.8803\n",
      "Epoch 49/200\n",
      "38/37 [==============================] - 1s - loss: 0.2602 - acc: 0.8933 - val_loss: 0.2222 - val_acc: 0.9027\n",
      "Epoch 50/200\n",
      "38/37 [==============================] - 1s - loss: 0.2667 - acc: 0.8763 - val_loss: 0.2948 - val_acc: 0.8853\n",
      "Epoch 51/200\n",
      "38/37 [==============================] - 1s - loss: 0.2730 - acc: 0.8829 - val_loss: 0.3318 - val_acc: 0.8603\n",
      "Epoch 52/200\n",
      "38/37 [==============================] - 1s - loss: 0.2603 - acc: 0.8837 - val_loss: 0.2396 - val_acc: 0.8878\n",
      "Epoch 53/200\n",
      "38/37 [==============================] - 1s - loss: 0.2672 - acc: 0.8898 - val_loss: 0.2063 - val_acc: 0.9152\n",
      "Epoch 54/200\n",
      "38/37 [==============================] - 1s - loss: 0.2827 - acc: 0.8835 - val_loss: 0.2184 - val_acc: 0.8978\n",
      "Epoch 55/200\n",
      "38/37 [==============================] - 1s - loss: 0.2662 - acc: 0.8917 - val_loss: 0.2559 - val_acc: 0.8828\n",
      "Epoch 56/200\n",
      "38/37 [==============================] - 1s - loss: 0.2536 - acc: 0.8848 - val_loss: 0.3014 - val_acc: 0.8778\n",
      "Epoch 57/200\n",
      "38/37 [==============================] - 1s - loss: 0.2538 - acc: 0.8892 - val_loss: 0.2167 - val_acc: 0.9102\n",
      "Epoch 58/200\n",
      "38/37 [==============================] - 1s - loss: 0.2608 - acc: 0.8879 - val_loss: 0.2155 - val_acc: 0.9027\n",
      "Epoch 59/200\n",
      "38/37 [==============================] - 1s - loss: 0.2598 - acc: 0.8983 - val_loss: 0.2096 - val_acc: 0.9152\n",
      "Epoch 60/200\n",
      "38/37 [==============================] - 1s - loss: 0.2599 - acc: 0.8848 - val_loss: 0.2162 - val_acc: 0.9052\n",
      "Epoch 61/200\n",
      "38/37 [==============================] - 1s - loss: 0.2644 - acc: 0.8887 - val_loss: 0.2089 - val_acc: 0.9102\n",
      "Epoch 62/200\n",
      "38/37 [==============================] - 1s - loss: 0.2684 - acc: 0.8815 - val_loss: 0.2183 - val_acc: 0.9077\n",
      "Epoch 63/200\n",
      "38/37 [==============================] - 1s - loss: 0.2540 - acc: 0.8887 - val_loss: 0.2107 - val_acc: 0.9102\n",
      "Epoch 64/200\n",
      "38/37 [==============================] - 1s - loss: 0.2731 - acc: 0.8903 - val_loss: 0.2121 - val_acc: 0.9102\n",
      "Epoch 65/200\n",
      "38/37 [==============================] - 1s - loss: 0.2640 - acc: 0.8944 - val_loss: 0.2223 - val_acc: 0.9052\n",
      "Epoch 66/200\n",
      "38/37 [==============================] - 1s - loss: 0.2571 - acc: 0.8980 - val_loss: 0.2374 - val_acc: 0.9002\n",
      "Epoch 67/200\n"
     ]
    },
    {
     "name": "stdout",
     "output_type": "stream",
     "text": [
      "38/37 [==============================] - 1s - loss: 0.2586 - acc: 0.8933 - val_loss: 0.2801 - val_acc: 0.8828\n",
      "Epoch 68/200\n",
      "38/37 [==============================] - 1s - loss: 0.2643 - acc: 0.8879 - val_loss: 0.2451 - val_acc: 0.9027\n",
      "Epoch 69/200\n",
      "38/37 [==============================] - 1s - loss: 0.2587 - acc: 0.8840 - val_loss: 0.2000 - val_acc: 0.9102\n",
      "Epoch 70/200\n",
      "38/37 [==============================] - 1s - loss: 0.2776 - acc: 0.8810 - val_loss: 0.2370 - val_acc: 0.8828\n",
      "Epoch 71/200\n",
      "38/37 [==============================] - 1s - loss: 0.2644 - acc: 0.8868 - val_loss: 0.2065 - val_acc: 0.9227\n",
      "Epoch 72/200\n",
      "38/37 [==============================] - 1s - loss: 0.2299 - acc: 0.9073 - val_loss: 0.2045 - val_acc: 0.9202\n",
      "Epoch 73/200\n",
      "38/37 [==============================] - 1s - loss: 0.2491 - acc: 0.9007 - val_loss: 0.2519 - val_acc: 0.8928\n",
      "Epoch 74/200\n",
      "38/37 [==============================] - 1s - loss: 0.2410 - acc: 0.8994 - val_loss: 0.1936 - val_acc: 0.9102\n",
      "Epoch 75/200\n",
      "38/37 [==============================] - 1s - loss: 0.2355 - acc: 0.9043 - val_loss: 0.1883 - val_acc: 0.9252\n",
      "Epoch 76/200\n",
      "38/37 [==============================] - 1s - loss: 0.2377 - acc: 0.9040 - val_loss: 0.1997 - val_acc: 0.9177\n",
      "Epoch 77/200\n",
      "38/37 [==============================] - 1s - loss: 0.2629 - acc: 0.8859 - val_loss: 0.2620 - val_acc: 0.8828\n",
      "Epoch 78/200\n",
      "38/37 [==============================] - 1s - loss: 0.2417 - acc: 0.9013 - val_loss: 0.1944 - val_acc: 0.9152\n",
      "Epoch 79/200\n",
      "38/37 [==============================] - 1s - loss: 0.2351 - acc: 0.8925 - val_loss: 0.2342 - val_acc: 0.8928\n",
      "Epoch 80/200\n",
      "38/37 [==============================] - 1s - loss: 0.2586 - acc: 0.8933 - val_loss: 0.3691 - val_acc: 0.8554\n",
      "Epoch 81/200\n",
      "38/37 [==============================] - 1s - loss: 0.2649 - acc: 0.8942 - val_loss: 0.2064 - val_acc: 0.9027\n",
      "Epoch 82/200\n",
      "38/37 [==============================] - 1s - loss: 0.2533 - acc: 0.8931 - val_loss: 0.2066 - val_acc: 0.9077\n",
      "Epoch 83/200\n",
      "38/37 [==============================] - 1s - loss: 0.2384 - acc: 0.8955 - val_loss: 0.1959 - val_acc: 0.9202\n",
      "Epoch 84/200\n",
      "38/37 [==============================] - 1s - loss: 0.2394 - acc: 0.9065 - val_loss: 0.1976 - val_acc: 0.9127\n",
      "Epoch 85/200\n",
      "38/37 [==============================] - 1s - loss: 0.2405 - acc: 0.8936 - val_loss: 0.1950 - val_acc: 0.9127\n",
      "Epoch 86/200\n",
      "38/37 [==============================] - 1s - loss: 0.2566 - acc: 0.8985 - val_loss: 0.2061 - val_acc: 0.9127\n",
      "Epoch 87/200\n",
      "38/37 [==============================] - 1s - loss: 0.2368 - acc: 0.9038 - val_loss: 0.2115 - val_acc: 0.9202\n",
      "Epoch 88/200\n",
      "38/37 [==============================] - 1s - loss: 0.2424 - acc: 0.8983 - val_loss: 0.2127 - val_acc: 0.9102\n",
      "Epoch 89/200\n",
      "38/37 [==============================] - 1s - loss: 0.2413 - acc: 0.8928 - val_loss: 0.2539 - val_acc: 0.8978\n",
      "Epoch 90/200\n",
      "38/37 [==============================] - 1s - loss: 0.2412 - acc: 0.8961 - val_loss: 0.2076 - val_acc: 0.9127\n",
      "Epoch 91/200\n",
      "38/37 [==============================] - 1s - loss: 0.2486 - acc: 0.8920 - val_loss: 0.1997 - val_acc: 0.9252\n",
      "Epoch 92/200\n",
      "38/37 [==============================] - 1s - loss: 0.2311 - acc: 0.9002 - val_loss: 0.1896 - val_acc: 0.9302\n",
      "Epoch 93/200\n",
      "38/37 [==============================] - 1s - loss: 0.2391 - acc: 0.8944 - val_loss: 0.2072 - val_acc: 0.9127\n",
      "Epoch 94/200\n",
      "38/37 [==============================] - 1s - loss: 0.2338 - acc: 0.8980 - val_loss: 0.1979 - val_acc: 0.9202\n",
      "Epoch 95/200\n",
      "38/37 [==============================] - 1s - loss: 0.2494 - acc: 0.8911 - val_loss: 0.2067 - val_acc: 0.9102\n",
      "Epoch 96/200\n",
      "38/37 [==============================] - 1s - loss: 0.2533 - acc: 0.8835 - val_loss: 0.2559 - val_acc: 0.8953\n",
      "Epoch 97/200\n",
      "38/37 [==============================] - 1s - loss: 0.2502 - acc: 0.8955 - val_loss: 0.2050 - val_acc: 0.9152\n",
      "Epoch 98/200\n",
      "38/37 [==============================] - 1s - loss: 0.2326 - acc: 0.9035 - val_loss: 0.2180 - val_acc: 0.9127\n",
      "Epoch 99/200\n",
      "38/37 [==============================] - 1s - loss: 0.2265 - acc: 0.9095 - val_loss: 0.2345 - val_acc: 0.9027\n",
      "Epoch 100/200\n",
      "38/37 [==============================] - 1s - loss: 0.2547 - acc: 0.9002 - val_loss: 0.2172 - val_acc: 0.9152\n",
      "Epoch 101/200\n",
      "38/37 [==============================] - 1s - loss: 0.2295 - acc: 0.9032 - val_loss: 0.1942 - val_acc: 0.9252\n",
      "Epoch 102/200\n",
      "38/37 [==============================] - 1s - loss: 0.2328 - acc: 0.8955 - val_loss: 0.2101 - val_acc: 0.9127\n",
      "Epoch 103/200\n",
      "38/37 [==============================] - 1s - loss: 0.2357 - acc: 0.9092 - val_loss: 0.2219 - val_acc: 0.9002\n",
      "Epoch 104/200\n",
      "38/37 [==============================] - 1s - loss: 0.2385 - acc: 0.8988 - val_loss: 0.2299 - val_acc: 0.8953\n",
      "Epoch 105/200\n",
      "38/37 [==============================] - 1s - loss: 0.2310 - acc: 0.9117 - val_loss: 0.1847 - val_acc: 0.9277\n",
      "Epoch 106/200\n",
      "38/37 [==============================] - 1s - loss: 0.2255 - acc: 0.9117 - val_loss: 0.1928 - val_acc: 0.9152\n",
      "Epoch 107/200\n",
      "38/37 [==============================] - 1s - loss: 0.2277 - acc: 0.9070 - val_loss: 0.2669 - val_acc: 0.8853\n",
      "Epoch 108/200\n",
      "38/37 [==============================] - 1s - loss: 0.2444 - acc: 0.9021 - val_loss: 0.1834 - val_acc: 0.9202\n",
      "Epoch 109/200\n",
      "38/37 [==============================] - 1s - loss: 0.2253 - acc: 0.9065 - val_loss: 0.2282 - val_acc: 0.9077\n",
      "Epoch 110/200\n",
      "38/37 [==============================] - 1s - loss: 0.2307 - acc: 0.8936 - val_loss: 0.1944 - val_acc: 0.9202\n",
      "Epoch 111/200\n",
      "38/37 [==============================] - 1s - loss: 0.2461 - acc: 0.8958 - val_loss: 0.1927 - val_acc: 0.9227\n",
      "Epoch 112/200\n",
      "38/37 [==============================] - 1s - loss: 0.2256 - acc: 0.9007 - val_loss: 0.1858 - val_acc: 0.9252\n",
      "Epoch 113/200\n",
      "38/37 [==============================] - 1s - loss: 0.2216 - acc: 0.9035 - val_loss: 0.1938 - val_acc: 0.9177\n",
      "Epoch 114/200\n",
      "38/37 [==============================] - 1s - loss: 0.2283 - acc: 0.9073 - val_loss: 0.1837 - val_acc: 0.9227\n",
      "Epoch 115/200\n",
      "38/37 [==============================] - 1s - loss: 0.2197 - acc: 0.9090 - val_loss: 0.2013 - val_acc: 0.9052\n",
      "Epoch 116/200\n",
      "38/37 [==============================] - 1s - loss: 0.2289 - acc: 0.9040 - val_loss: 0.1861 - val_acc: 0.9302\n",
      "Epoch 117/200\n",
      "38/37 [==============================] - 1s - loss: 0.2176 - acc: 0.9147 - val_loss: 0.2209 - val_acc: 0.9102\n",
      "Epoch 118/200\n",
      "38/37 [==============================] - 1s - loss: 0.2269 - acc: 0.9010 - val_loss: 0.1981 - val_acc: 0.9077\n",
      "Epoch 119/200\n",
      "38/37 [==============================] - 1s - loss: 0.2345 - acc: 0.8999 - val_loss: 0.1993 - val_acc: 0.9002\n",
      "Epoch 120/200\n",
      "38/37 [==============================] - 1s - loss: 0.2245 - acc: 0.9049 - val_loss: 0.2506 - val_acc: 0.8953\n",
      "Epoch 121/200\n",
      "38/37 [==============================] - 1s - loss: 0.2449 - acc: 0.8936 - val_loss: 0.2290 - val_acc: 0.9077\n",
      "Epoch 122/200\n",
      "38/37 [==============================] - 1s - loss: 0.2138 - acc: 0.9142 - val_loss: 0.2304 - val_acc: 0.9052\n",
      "Epoch 123/200\n",
      "38/37 [==============================] - 1s - loss: 0.2276 - acc: 0.9101 - val_loss: 0.2414 - val_acc: 0.8978\n",
      "Epoch 124/200\n",
      "38/37 [==============================] - 1s - loss: 0.2231 - acc: 0.9103 - val_loss: 0.1910 - val_acc: 0.9202\n",
      "Epoch 125/200\n",
      "38/37 [==============================] - 1s - loss: 0.2388 - acc: 0.9087 - val_loss: 0.2409 - val_acc: 0.9002\n",
      "Epoch 126/200\n",
      "38/37 [==============================] - 1s - loss: 0.2138 - acc: 0.9123 - val_loss: 0.1822 - val_acc: 0.9252\n",
      "Epoch 127/200\n",
      "38/37 [==============================] - 1s - loss: 0.2149 - acc: 0.9109 - val_loss: 0.1999 - val_acc: 0.9027\n",
      "Epoch 128/200\n",
      "38/37 [==============================] - 1s - loss: 0.2258 - acc: 0.8977 - val_loss: 0.1980 - val_acc: 0.9102\n",
      "Epoch 129/200\n",
      "38/37 [==============================] - 1s - loss: 0.2121 - acc: 0.9139 - val_loss: 0.1898 - val_acc: 0.9252\n",
      "Epoch 130/200\n",
      "38/37 [==============================] - 1s - loss: 0.2163 - acc: 0.9112 - val_loss: 0.2039 - val_acc: 0.9152\n",
      "Epoch 131/200\n",
      "38/37 [==============================] - 1s - loss: 0.2470 - acc: 0.8996 - val_loss: 0.2020 - val_acc: 0.9152\n",
      "Epoch 132/200\n",
      "38/37 [==============================] - 1s - loss: 0.2110 - acc: 0.9164 - val_loss: 0.1963 - val_acc: 0.9177\n",
      "Epoch 133/200\n"
     ]
    },
    {
     "name": "stdout",
     "output_type": "stream",
     "text": [
      "38/37 [==============================] - 1s - loss: 0.2275 - acc: 0.9007 - val_loss: 0.2250 - val_acc: 0.9077\n",
      "Epoch 134/200\n",
      "38/37 [==============================] - 1s - loss: 0.2318 - acc: 0.9073 - val_loss: 0.1816 - val_acc: 0.9377\n",
      "Epoch 135/200\n",
      "38/37 [==============================] - 1s - loss: 0.2239 - acc: 0.9027 - val_loss: 0.2003 - val_acc: 0.9102\n",
      "Epoch 136/200\n",
      "38/37 [==============================] - 1s - loss: 0.2221 - acc: 0.9095 - val_loss: 0.2227 - val_acc: 0.9002\n",
      "Epoch 137/200\n",
      "38/37 [==============================] - 1s - loss: 0.2093 - acc: 0.9246 - val_loss: 0.1936 - val_acc: 0.9252\n",
      "Epoch 138/200\n",
      "38/37 [==============================] - 1s - loss: 0.2142 - acc: 0.9092 - val_loss: 0.1966 - val_acc: 0.9127\n",
      "Epoch 139/200\n",
      "38/37 [==============================] - 1s - loss: 0.2111 - acc: 0.9114 - val_loss: 0.2040 - val_acc: 0.9152\n",
      "Epoch 140/200\n",
      "38/37 [==============================] - 1s - loss: 0.2071 - acc: 0.9147 - val_loss: 0.2238 - val_acc: 0.9077\n",
      "Epoch 141/200\n",
      "38/37 [==============================] - 1s - loss: 0.2613 - acc: 0.8843 - val_loss: 0.2816 - val_acc: 0.8628\n",
      "Epoch 142/200\n",
      "38/37 [==============================] - 1s - loss: 0.2329 - acc: 0.9021 - val_loss: 0.2736 - val_acc: 0.8853\n",
      "Epoch 143/200\n",
      "38/37 [==============================] - 1s - loss: 0.2256 - acc: 0.9114 - val_loss: 0.2546 - val_acc: 0.8853\n",
      "Epoch 144/200\n",
      "38/37 [==============================] - 1s - loss: 0.2056 - acc: 0.9090 - val_loss: 0.2476 - val_acc: 0.8978\n",
      "Epoch 145/200\n",
      "38/37 [==============================] - 1s - loss: 0.2043 - acc: 0.9051 - val_loss: 0.1843 - val_acc: 0.9302\n",
      "Epoch 146/200\n",
      "38/37 [==============================] - 1s - loss: 0.2139 - acc: 0.9054 - val_loss: 0.1990 - val_acc: 0.9052\n",
      "Epoch 147/200\n",
      "38/37 [==============================] - 1s - loss: 0.2194 - acc: 0.9060 - val_loss: 0.1772 - val_acc: 0.9327\n",
      "Epoch 148/200\n",
      "38/37 [==============================] - 1s - loss: 0.2062 - acc: 0.9101 - val_loss: 0.1715 - val_acc: 0.9302\n",
      "Epoch 149/200\n",
      "38/37 [==============================] - 1s - loss: 0.2117 - acc: 0.9109 - val_loss: 0.1803 - val_acc: 0.9252\n",
      "Epoch 150/200\n",
      "38/37 [==============================] - 1s - loss: 0.1987 - acc: 0.9172 - val_loss: 0.2230 - val_acc: 0.9002\n",
      "Epoch 151/200\n",
      "38/37 [==============================] - 1s - loss: 0.2130 - acc: 0.9016 - val_loss: 0.2532 - val_acc: 0.8953\n",
      "Epoch 152/200\n",
      "38/37 [==============================] - 1s - loss: 0.2219 - acc: 0.9103 - val_loss: 0.2162 - val_acc: 0.8978\n",
      "Epoch 153/200\n",
      "38/37 [==============================] - 1s - loss: 0.2184 - acc: 0.9112 - val_loss: 0.2420 - val_acc: 0.8978\n",
      "Epoch 154/200\n",
      "38/37 [==============================] - 1s - loss: 0.2001 - acc: 0.9123 - val_loss: 0.2166 - val_acc: 0.9102\n",
      "Epoch 155/200\n",
      "38/37 [==============================] - 1s - loss: 0.2037 - acc: 0.9106 - val_loss: 0.2144 - val_acc: 0.9102\n",
      "Epoch 156/200\n",
      "38/37 [==============================] - 1s - loss: 0.2141 - acc: 0.9016 - val_loss: 0.2043 - val_acc: 0.9102\n",
      "Epoch 157/200\n",
      "38/37 [==============================] - 1s - loss: 0.2006 - acc: 0.9090 - val_loss: 0.2252 - val_acc: 0.9077\n",
      "Epoch 158/200\n",
      "38/37 [==============================] - 1s - loss: 0.2082 - acc: 0.9112 - val_loss: 0.1774 - val_acc: 0.9352\n",
      "Epoch 159/200\n",
      "38/37 [==============================] - 1s - loss: 0.1911 - acc: 0.9197 - val_loss: 0.1929 - val_acc: 0.9252\n",
      "Epoch 160/200\n",
      "38/37 [==============================] - 1s - loss: 0.1968 - acc: 0.9142 - val_loss: 0.1828 - val_acc: 0.9277\n",
      "Epoch 161/200\n",
      "38/37 [==============================] - 1s - loss: 0.2271 - acc: 0.9112 - val_loss: 0.1945 - val_acc: 0.9302\n",
      "Epoch 162/200\n",
      "38/37 [==============================] - 1s - loss: 0.2100 - acc: 0.9065 - val_loss: 0.2087 - val_acc: 0.9102\n",
      "Epoch 163/200\n",
      "38/37 [==============================] - 1s - loss: 0.2159 - acc: 0.9073 - val_loss: 0.2139 - val_acc: 0.9027\n",
      "Epoch 164/200\n",
      "38/37 [==============================] - 1s - loss: 0.2213 - acc: 0.9016 - val_loss: 0.2196 - val_acc: 0.9052\n",
      "Epoch 165/200\n",
      "38/37 [==============================] - 1s - loss: 0.2198 - acc: 0.9177 - val_loss: 0.1897 - val_acc: 0.9277\n",
      "Epoch 166/200\n",
      "38/37 [==============================] - 1s - loss: 0.1994 - acc: 0.9216 - val_loss: 0.1932 - val_acc: 0.9127\n",
      "Epoch 167/200\n",
      "38/37 [==============================] - 1s - loss: 0.2020 - acc: 0.9169 - val_loss: 0.1899 - val_acc: 0.9152\n",
      "Epoch 168/200\n",
      "38/37 [==============================] - 1s - loss: 0.1938 - acc: 0.9230 - val_loss: 0.1863 - val_acc: 0.9152\n",
      "Epoch 169/200\n",
      "38/37 [==============================] - 1s - loss: 0.1959 - acc: 0.9221 - val_loss: 0.1874 - val_acc: 0.9177\n",
      "Epoch 170/200\n",
      "38/37 [==============================] - 1s - loss: 0.1998 - acc: 0.9120 - val_loss: 0.2237 - val_acc: 0.8903\n",
      "Epoch 171/200\n",
      "38/37 [==============================] - 1s - loss: 0.2122 - acc: 0.9095 - val_loss: 0.1887 - val_acc: 0.9252\n",
      "Epoch 172/200\n",
      "38/37 [==============================] - 1s - loss: 0.2204 - acc: 0.9087 - val_loss: 0.2075 - val_acc: 0.9102\n",
      "Epoch 173/200\n",
      "38/37 [==============================] - 1s - loss: 0.1873 - acc: 0.9213 - val_loss: 0.1810 - val_acc: 0.9177\n",
      "Epoch 174/200\n",
      "38/37 [==============================] - 1s - loss: 0.1758 - acc: 0.9287 - val_loss: 0.1835 - val_acc: 0.9277\n",
      "Epoch 175/200\n",
      "38/37 [==============================] - 1s - loss: 0.1927 - acc: 0.9282 - val_loss: 0.1864 - val_acc: 0.9227\n",
      "Epoch 176/200\n",
      "38/37 [==============================] - 1s - loss: 0.1866 - acc: 0.9232 - val_loss: 0.1758 - val_acc: 0.9327\n",
      "Epoch 177/200\n",
      "38/37 [==============================] - 1s - loss: 0.1988 - acc: 0.9131 - val_loss: 0.1803 - val_acc: 0.9227\n",
      "Epoch 178/200\n",
      "38/37 [==============================] - 1s - loss: 0.1985 - acc: 0.9169 - val_loss: 0.1888 - val_acc: 0.9227\n",
      "Epoch 179/200\n",
      "38/37 [==============================] - 1s - loss: 0.1845 - acc: 0.9284 - val_loss: 0.2035 - val_acc: 0.9002\n",
      "Epoch 180/200\n",
      "38/37 [==============================] - 1s - loss: 0.2166 - acc: 0.9084 - val_loss: 0.1789 - val_acc: 0.9202\n",
      "Epoch 181/200\n",
      "38/37 [==============================] - 1s - loss: 0.2130 - acc: 0.9136 - val_loss: 0.1860 - val_acc: 0.9352\n",
      "Epoch 182/200\n",
      "38/37 [==============================] - 1s - loss: 0.1987 - acc: 0.9169 - val_loss: 0.1849 - val_acc: 0.9252\n",
      "Epoch 183/200\n",
      "38/37 [==============================] - 1s - loss: 0.1970 - acc: 0.9224 - val_loss: 0.1779 - val_acc: 0.9302\n",
      "Epoch 184/200\n",
      "38/37 [==============================] - 1s - loss: 0.1881 - acc: 0.9235 - val_loss: 0.1900 - val_acc: 0.9327\n",
      "Epoch 185/200\n",
      "38/37 [==============================] - 1s - loss: 0.1897 - acc: 0.9246 - val_loss: 0.1915 - val_acc: 0.9327\n",
      "Epoch 186/200\n",
      "38/37 [==============================] - 1s - loss: 0.1898 - acc: 0.9301 - val_loss: 0.1895 - val_acc: 0.9202\n",
      "Epoch 187/200\n",
      "38/37 [==============================] - 1s - loss: 0.1780 - acc: 0.9320 - val_loss: 0.1840 - val_acc: 0.9252\n",
      "Epoch 188/200\n",
      "38/37 [==============================] - 1s - loss: 0.1827 - acc: 0.9221 - val_loss: 0.1993 - val_acc: 0.9277\n",
      "Epoch 189/200\n",
      "38/37 [==============================] - 1s - loss: 0.1716 - acc: 0.9279 - val_loss: 0.1963 - val_acc: 0.9152\n",
      "Epoch 190/200\n",
      "38/37 [==============================] - 1s - loss: 0.1778 - acc: 0.9268 - val_loss: 0.2020 - val_acc: 0.9102\n",
      "Epoch 191/200\n",
      "38/37 [==============================] - 1s - loss: 0.2220 - acc: 0.9098 - val_loss: 0.2569 - val_acc: 0.8853\n",
      "Epoch 192/200\n",
      "38/37 [==============================] - 1s - loss: 0.2280 - acc: 0.9046 - val_loss: 0.2128 - val_acc: 0.9227\n",
      "Epoch 193/200\n",
      "38/37 [==============================] - 1s - loss: 0.2019 - acc: 0.9177 - val_loss: 0.1831 - val_acc: 0.9252\n",
      "Epoch 194/200\n",
      "38/37 [==============================] - 1s - loss: 0.1946 - acc: 0.9166 - val_loss: 0.1889 - val_acc: 0.9302\n",
      "Epoch 195/200\n",
      "38/37 [==============================] - 1s - loss: 0.1756 - acc: 0.9350 - val_loss: 0.2010 - val_acc: 0.9102\n",
      "Epoch 196/200\n",
      "38/37 [==============================] - 1s - loss: 0.1985 - acc: 0.9134 - val_loss: 0.1884 - val_acc: 0.9152\n",
      "Epoch 197/200\n",
      "38/37 [==============================] - 1s - loss: 0.1685 - acc: 0.9301 - val_loss: 0.1888 - val_acc: 0.9102\n",
      "Epoch 198/200\n",
      "38/37 [==============================] - 1s - loss: 0.1674 - acc: 0.9405 - val_loss: 0.1954 - val_acc: 0.9177\n",
      "Epoch 199/200\n"
     ]
    },
    {
     "name": "stdout",
     "output_type": "stream",
     "text": [
      "38/37 [==============================] - 1s - loss: 0.1725 - acc: 0.9364 - val_loss: 0.1980 - val_acc: 0.9277\n",
      "Epoch 200/200\n",
      "38/37 [==============================] - 1s - loss: 0.1901 - acc: 0.9197 - val_loss: 0.2173 - val_acc: 0.9002\n"
     ]
    },
    {
     "data": {
      "text/plain": [
       "<keras.callbacks.History at 0x24068b505c0>"
      ]
     },
     "execution_count": 42,
     "metadata": {},
     "output_type": "execute_result"
    }
   ],
   "source": [
    "import os\n",
    "gmodel=getModel()\n",
    "batch_size = 32\n",
    "ts = str(int(time.time()))\n",
    "file_path = \".model_weights_generator\"+ts+\".hdf5\"\n",
    "gmodel.fit_generator(datagen.flow(X_train_cv, y_train_cv, batch_size=batch_size),\n",
    "                    steps_per_epoch=len(X_train_cv) / batch_size,\n",
    "                    epochs=200,\n",
    "                    verbose=1,\n",
    "                    validation_data=(X_valid, y_valid),\n",
    "                    callbacks=get_callbacks(filepath=file_path, patience=200))"
   ]
  },
  {
   "cell_type": "code",
   "execution_count": 35,
   "metadata": {
    "_cell_guid": "079f0a8d-d2a5-4154-b37f-b425333e4ada",
    "_uuid": "0fa65f37d198cd6301376f179d9de0ccc1d40db3"
   },
   "outputs": [
    {
     "name": "stdout",
     "output_type": "stream",
     "text": [
      "401/401 [==============================] - 0s     \n",
      "Test loss: 0.165269682458\n",
      "Test accuracy: 0.932668329474\n",
      "1088/1203 [==========================>...] - ETA: 0sTrain loss: 0.179714526049\n",
      "Train accuracy: 0.932668329524\n"
     ]
    }
   ],
   "source": [
    "gmodel.load_weights(filepath=file_path)\n",
    "score = gmodel.evaluate(X_valid, y_valid, verbose=1)\n",
    "print('Test loss:', score[0])\n",
    "print('Test accuracy:', score[1])\n",
    "gmodel.load_weights(filepath=file_path)\n",
    "score = gmodel.evaluate(X_train_cv, y_train_cv, verbose=1)\n",
    "print('Train loss:', score[0])\n",
    "print('Train accuracy:', score[1])"
   ]
  },
  {
   "cell_type": "code",
   "execution_count": 38,
   "metadata": {
    "_cell_guid": "7cae1458-a566-4714-8b80-0b23fe88509c",
    "_uuid": "27f021784da863a2ad960a96b9c7394f25521802"
   },
   "outputs": [
    {
     "name": "stdout",
     "output_type": "stream",
     "text": [
      "8424/8424 [==============================] - 2s     \n"
     ]
    }
   ],
   "source": [
    "X_band_test_1=np.array([denoise_tv_bregman(np.array(band).reshape(75, 75),weight=0.5) for band in test[\"band_1\"]])\n",
    "X_band_test_2=np.array([denoise_tv_bregman(np.array(band).reshape(75, 75),weight=0.5) for band in test[\"band_2\"]])\n",
    "\n",
    "X_band_test_1=np.array([np.array(band).astype(np.float32) for band in X_band_test_1])\n",
    "X_band_test_2=np.array([np.array(band).astype(np.float32) for band in X_band_test_2])\n",
    "\n",
    "X_band_test_1=np.array([band-band.mean() for band in X_band_test_1])\n",
    "X_band_test_2=np.array([band-band.mean() for band in X_band_test_2])\n",
    "\n",
    "X_band_test_1=np.array([band/band.std() for band in X_band_test_1])\n",
    "X_band_test_2=np.array([band/band.std() for band in X_band_test_2])\n",
    "\n",
    "\n",
    "X_test = np.concatenate([X_band_test_1[:, :, :, np.newaxis], X_band_test_2[:, :, :, np.newaxis]], axis=-1)\n",
    "predicted_test=gmodel.predict_proba(X_test)"
   ]
  },
  {
   "cell_type": "code",
   "execution_count": 39,
   "metadata": {
    "_cell_guid": "da3618f6-6e0a-475c-a390-7e17f5406c1a",
    "_uuid": "b34412c33fe8250df3285867d9a13e4bd08e8c12"
   },
   "outputs": [],
   "source": [
    "submission = pd.DataFrame()\n",
    "submission['id']=test['id']\n",
    "submission['is_iceberg']=predicted_test.reshape((predicted_test.shape[0]))\n",
    "submission.to_csv('sub.csv', index=False)"
   ]
  },
  {
   "cell_type": "markdown",
   "metadata": {
    "_cell_guid": "a5140949-c867-43fd-baba-49e57bec44cf",
    "_uuid": "741f9696d91da6af29266fb199a6c2fb80d26dfe",
    "collapsed": true
   },
   "source": [
    "#### Conclusion\n",
    "To increase the score, I have tried Speckle filtering, Indicence angle normalization and other preprocessing and they don't seems to work.  You may try and see but for me they are not giving any good results.\n",
    "\n",
    "You can't be on top-10 using this kernel, so here is one beautiful peice of information. The test dataset contain 8000 images, We can exploit this. We can do pseudo labelling to increase the predictions. Here is the article related to that:\n",
    "https://towardsdatascience.com/simple-explanation-of-semi-supervised-learning-and-pseudo-labeling-c2218e8c769b\n",
    "\n",
    "Upvote if you liked this kernel."
   ]
  },
  {
   "cell_type": "code",
   "execution_count": null,
   "metadata": {
    "_cell_guid": "637e3662-38ac-4fa6-8065-48c8105026a9",
    "_uuid": "962411dc0d6a00c1730bfd22767542210c36f751"
   },
   "outputs": [],
   "source": []
  }
 ],
 "metadata": {
  "kernelspec": {
   "display_name": "Python 3",
   "language": "python",
   "name": "python3"
  },
  "language_info": {
   "codemirror_mode": {
    "name": "ipython",
    "version": 3
   },
   "file_extension": ".py",
   "mimetype": "text/x-python",
   "name": "python",
   "nbconvert_exporter": "python",
   "pygments_lexer": "ipython3",
   "version": "3.6.3"
  }
 },
 "nbformat": 4,
 "nbformat_minor": 1
}
